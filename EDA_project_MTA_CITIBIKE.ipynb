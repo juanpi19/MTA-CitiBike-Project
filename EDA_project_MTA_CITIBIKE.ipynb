{
 "cells": [
  {
   "cell_type": "code",
   "execution_count": 1,
   "metadata": {},
   "outputs": [
    {
     "name": "stdout",
     "output_type": "stream",
     "text": [
      "Requirement already satisfied: haversine in /opt/anaconda3/lib/python3.7/site-packages (2.5.1)\n",
      "\u001b[33mWARNING: You are using pip version 21.0.1; however, version 21.3.1 is available.\n",
      "You should consider upgrading via the '/opt/anaconda3/bin/python -m pip install --upgrade pip' command.\u001b[0m\n",
      "/bin/sh: matplotlib: command not found\n"
     ]
    }
   ],
   "source": [
    "import pandas as pd\n",
    "import sqlite3\n",
    "!pip install haversine\n",
    "import matplotlib.pyplot as plt\n",
    "!matplotlib inline"
   ]
  },
  {
   "cell_type": "code",
   "execution_count": null,
   "metadata": {},
   "outputs": [],
   "source": []
  },
  {
   "cell_type": "markdown",
   "metadata": {},
   "source": [
    "# MTA Data analysis"
   ]
  },
  {
   "cell_type": "code",
   "execution_count": 2,
   "metadata": {},
   "outputs": [],
   "source": [
    "# first couple of rows of the dataset\n",
    "conn = sqlite3.connect(\"mta_data.db\")\n",
    "subway = pd.read_sql(\"SELECT * FROM mta_data\", con=conn)"
   ]
  },
  {
   "cell_type": "code",
   "execution_count": 3,
   "metadata": {},
   "outputs": [
    {
     "data": {
      "text/html": [
       "<div>\n",
       "<style scoped>\n",
       "    .dataframe tbody tr th:only-of-type {\n",
       "        vertical-align: middle;\n",
       "    }\n",
       "\n",
       "    .dataframe tbody tr th {\n",
       "        vertical-align: top;\n",
       "    }\n",
       "\n",
       "    .dataframe thead th {\n",
       "        text-align: right;\n",
       "    }\n",
       "</style>\n",
       "<table border=\"1\" class=\"dataframe\">\n",
       "  <thead>\n",
       "    <tr style=\"text-align: right;\">\n",
       "      <th></th>\n",
       "      <th>C/A</th>\n",
       "      <th>UNIT</th>\n",
       "      <th>SCP</th>\n",
       "      <th>STATION</th>\n",
       "      <th>LINENAME</th>\n",
       "      <th>DIVISION</th>\n",
       "      <th>DATE</th>\n",
       "      <th>TIME</th>\n",
       "      <th>DESC</th>\n",
       "      <th>ENTRIES</th>\n",
       "      <th>EXITS</th>\n",
       "    </tr>\n",
       "  </thead>\n",
       "  <tbody>\n",
       "    <tr>\n",
       "      <th>0</th>\n",
       "      <td>A002</td>\n",
       "      <td>R051</td>\n",
       "      <td>02-00-00</td>\n",
       "      <td>59 ST</td>\n",
       "      <td>NQR456W</td>\n",
       "      <td>BMT</td>\n",
       "      <td>08/21/2021</td>\n",
       "      <td>00:00:00</td>\n",
       "      <td>REGULAR</td>\n",
       "      <td>7622548</td>\n",
       "      <td>2607689</td>\n",
       "    </tr>\n",
       "    <tr>\n",
       "      <th>1</th>\n",
       "      <td>A002</td>\n",
       "      <td>R051</td>\n",
       "      <td>02-00-00</td>\n",
       "      <td>59 ST</td>\n",
       "      <td>NQR456W</td>\n",
       "      <td>BMT</td>\n",
       "      <td>08/21/2021</td>\n",
       "      <td>04:00:00</td>\n",
       "      <td>REGULAR</td>\n",
       "      <td>7622561</td>\n",
       "      <td>2607697</td>\n",
       "    </tr>\n",
       "    <tr>\n",
       "      <th>2</th>\n",
       "      <td>A002</td>\n",
       "      <td>R051</td>\n",
       "      <td>02-00-00</td>\n",
       "      <td>59 ST</td>\n",
       "      <td>NQR456W</td>\n",
       "      <td>BMT</td>\n",
       "      <td>08/21/2021</td>\n",
       "      <td>08:00:00</td>\n",
       "      <td>REGULAR</td>\n",
       "      <td>7622573</td>\n",
       "      <td>2607718</td>\n",
       "    </tr>\n",
       "    <tr>\n",
       "      <th>3</th>\n",
       "      <td>A002</td>\n",
       "      <td>R051</td>\n",
       "      <td>02-00-00</td>\n",
       "      <td>59 ST</td>\n",
       "      <td>NQR456W</td>\n",
       "      <td>BMT</td>\n",
       "      <td>08/21/2021</td>\n",
       "      <td>12:00:00</td>\n",
       "      <td>REGULAR</td>\n",
       "      <td>7622604</td>\n",
       "      <td>2607766</td>\n",
       "    </tr>\n",
       "    <tr>\n",
       "      <th>4</th>\n",
       "      <td>A002</td>\n",
       "      <td>R051</td>\n",
       "      <td>02-00-00</td>\n",
       "      <td>59 ST</td>\n",
       "      <td>NQR456W</td>\n",
       "      <td>BMT</td>\n",
       "      <td>08/21/2021</td>\n",
       "      <td>16:00:00</td>\n",
       "      <td>REGULAR</td>\n",
       "      <td>7622715</td>\n",
       "      <td>2607802</td>\n",
       "    </tr>\n",
       "  </tbody>\n",
       "</table>\n",
       "</div>"
      ],
      "text/plain": [
       "    C/A  UNIT       SCP STATION LINENAME DIVISION        DATE      TIME  \\\n",
       "0  A002  R051  02-00-00   59 ST  NQR456W      BMT  08/21/2021  00:00:00   \n",
       "1  A002  R051  02-00-00   59 ST  NQR456W      BMT  08/21/2021  04:00:00   \n",
       "2  A002  R051  02-00-00   59 ST  NQR456W      BMT  08/21/2021  08:00:00   \n",
       "3  A002  R051  02-00-00   59 ST  NQR456W      BMT  08/21/2021  12:00:00   \n",
       "4  A002  R051  02-00-00   59 ST  NQR456W      BMT  08/21/2021  16:00:00   \n",
       "\n",
       "      DESC  ENTRIES    EXITS  \n",
       "0  REGULAR  7622548  2607689  \n",
       "1  REGULAR  7622561  2607697  \n",
       "2  REGULAR  7622573  2607718  \n",
       "3  REGULAR  7622604  2607766  \n",
       "4  REGULAR  7622715  2607802  "
      ]
     },
     "execution_count": 3,
     "metadata": {},
     "output_type": "execute_result"
    }
   ],
   "source": [
    "# I am taking data from June to August (Summer)\n",
    "subway.head()"
   ]
  },
  {
   "cell_type": "code",
   "execution_count": 4,
   "metadata": {},
   "outputs": [],
   "source": [
    "subway['CHANGE_AMOUNT_OF_EXITS'] = subway.EXITS.diff()"
   ]
  },
  {
   "cell_type": "code",
   "execution_count": null,
   "metadata": {},
   "outputs": [],
   "source": []
  },
  {
   "cell_type": "code",
   "execution_count": 5,
   "metadata": {},
   "outputs": [
    {
     "data": {
      "text/html": [
       "<div>\n",
       "<style scoped>\n",
       "    .dataframe tbody tr th:only-of-type {\n",
       "        vertical-align: middle;\n",
       "    }\n",
       "\n",
       "    .dataframe tbody tr th {\n",
       "        vertical-align: top;\n",
       "    }\n",
       "\n",
       "    .dataframe thead th {\n",
       "        text-align: right;\n",
       "    }\n",
       "</style>\n",
       "<table border=\"1\" class=\"dataframe\">\n",
       "  <thead>\n",
       "    <tr style=\"text-align: right;\">\n",
       "      <th></th>\n",
       "      <th>C/A</th>\n",
       "      <th>UNIT</th>\n",
       "      <th>SCP</th>\n",
       "      <th>STATION</th>\n",
       "      <th>LINENAME</th>\n",
       "      <th>DIVISION</th>\n",
       "      <th>DATE</th>\n",
       "      <th>TIME</th>\n",
       "      <th>DESC</th>\n",
       "      <th>ENTRIES</th>\n",
       "      <th>EXITS</th>\n",
       "      <th>CHANGE_AMOUNT_OF_EXITS</th>\n",
       "    </tr>\n",
       "  </thead>\n",
       "  <tbody>\n",
       "    <tr>\n",
       "      <th>2722605</th>\n",
       "      <td>TRAM2</td>\n",
       "      <td>R469</td>\n",
       "      <td>00-05-01</td>\n",
       "      <td>RIT-ROOSEVELT</td>\n",
       "      <td>R</td>\n",
       "      <td>RIT</td>\n",
       "      <td>06/04/2021</td>\n",
       "      <td>05:00:00</td>\n",
       "      <td>REGULAR</td>\n",
       "      <td>5554</td>\n",
       "      <td>577</td>\n",
       "      <td>0.0</td>\n",
       "    </tr>\n",
       "    <tr>\n",
       "      <th>2722606</th>\n",
       "      <td>TRAM2</td>\n",
       "      <td>R469</td>\n",
       "      <td>00-05-01</td>\n",
       "      <td>RIT-ROOSEVELT</td>\n",
       "      <td>R</td>\n",
       "      <td>RIT</td>\n",
       "      <td>06/04/2021</td>\n",
       "      <td>09:00:00</td>\n",
       "      <td>REGULAR</td>\n",
       "      <td>5554</td>\n",
       "      <td>577</td>\n",
       "      <td>0.0</td>\n",
       "    </tr>\n",
       "    <tr>\n",
       "      <th>2722607</th>\n",
       "      <td>TRAM2</td>\n",
       "      <td>R469</td>\n",
       "      <td>00-05-01</td>\n",
       "      <td>RIT-ROOSEVELT</td>\n",
       "      <td>R</td>\n",
       "      <td>RIT</td>\n",
       "      <td>06/04/2021</td>\n",
       "      <td>13:00:00</td>\n",
       "      <td>REGULAR</td>\n",
       "      <td>5554</td>\n",
       "      <td>577</td>\n",
       "      <td>0.0</td>\n",
       "    </tr>\n",
       "    <tr>\n",
       "      <th>2722608</th>\n",
       "      <td>TRAM2</td>\n",
       "      <td>R469</td>\n",
       "      <td>00-05-01</td>\n",
       "      <td>RIT-ROOSEVELT</td>\n",
       "      <td>R</td>\n",
       "      <td>RIT</td>\n",
       "      <td>06/04/2021</td>\n",
       "      <td>17:00:00</td>\n",
       "      <td>REGULAR</td>\n",
       "      <td>5554</td>\n",
       "      <td>577</td>\n",
       "      <td>0.0</td>\n",
       "    </tr>\n",
       "    <tr>\n",
       "      <th>2722609</th>\n",
       "      <td>TRAM2</td>\n",
       "      <td>R469</td>\n",
       "      <td>00-05-01</td>\n",
       "      <td>RIT-ROOSEVELT</td>\n",
       "      <td>R</td>\n",
       "      <td>RIT</td>\n",
       "      <td>06/04/2021</td>\n",
       "      <td>21:00:00</td>\n",
       "      <td>REGULAR</td>\n",
       "      <td>5554</td>\n",
       "      <td>577</td>\n",
       "      <td>0.0</td>\n",
       "    </tr>\n",
       "  </tbody>\n",
       "</table>\n",
       "</div>"
      ],
      "text/plain": [
       "           C/A  UNIT       SCP        STATION LINENAME DIVISION        DATE  \\\n",
       "2722605  TRAM2  R469  00-05-01  RIT-ROOSEVELT        R      RIT  06/04/2021   \n",
       "2722606  TRAM2  R469  00-05-01  RIT-ROOSEVELT        R      RIT  06/04/2021   \n",
       "2722607  TRAM2  R469  00-05-01  RIT-ROOSEVELT        R      RIT  06/04/2021   \n",
       "2722608  TRAM2  R469  00-05-01  RIT-ROOSEVELT        R      RIT  06/04/2021   \n",
       "2722609  TRAM2  R469  00-05-01  RIT-ROOSEVELT        R      RIT  06/04/2021   \n",
       "\n",
       "             TIME     DESC  ENTRIES  EXITS  CHANGE_AMOUNT_OF_EXITS  \n",
       "2722605  05:00:00  REGULAR     5554    577                     0.0  \n",
       "2722606  09:00:00  REGULAR     5554    577                     0.0  \n",
       "2722607  13:00:00  REGULAR     5554    577                     0.0  \n",
       "2722608  17:00:00  REGULAR     5554    577                     0.0  \n",
       "2722609  21:00:00  REGULAR     5554    577                     0.0  "
      ]
     },
     "execution_count": 5,
     "metadata": {},
     "output_type": "execute_result"
    }
   ],
   "source": [
    "# last five rows of the dataset\n",
    "subway.tail()"
   ]
  },
  {
   "cell_type": "code",
   "execution_count": 6,
   "metadata": {},
   "outputs": [
    {
     "name": "stdout",
     "output_type": "stream",
     "text": [
      "<class 'pandas.core.frame.DataFrame'>\n",
      "RangeIndex: 2722610 entries, 0 to 2722609\n",
      "Data columns (total 12 columns):\n",
      " #   Column                  Dtype  \n",
      "---  ------                  -----  \n",
      " 0   C/A                     object \n",
      " 1   UNIT                    object \n",
      " 2   SCP                     object \n",
      " 3   STATION                 object \n",
      " 4   LINENAME                object \n",
      " 5   DIVISION                object \n",
      " 6   DATE                    object \n",
      " 7   TIME                    object \n",
      " 8   DESC                    object \n",
      " 9   ENTRIES                 int64  \n",
      " 10  EXITS                   int64  \n",
      " 11  CHANGE_AMOUNT_OF_EXITS  float64\n",
      "dtypes: float64(1), int64(2), object(9)\n",
      "memory usage: 249.3+ MB\n"
     ]
    }
   ],
   "source": [
    "subway.info()"
   ]
  },
  {
   "cell_type": "code",
   "execution_count": 7,
   "metadata": {},
   "outputs": [],
   "source": [
    "# creating a DATE_TIME column that contains the Date and the Time\n",
    "subway['DATE_TIME'] = pd.to_datetime(subway.DATE + \" \" + subway.TIME, \n",
    "                                            format=\"%m/%d/%Y %H:%M:%S\")"
   ]
  },
  {
   "cell_type": "code",
   "execution_count": 8,
   "metadata": {},
   "outputs": [
    {
     "data": {
      "text/html": [
       "<div>\n",
       "<style scoped>\n",
       "    .dataframe tbody tr th:only-of-type {\n",
       "        vertical-align: middle;\n",
       "    }\n",
       "\n",
       "    .dataframe tbody tr th {\n",
       "        vertical-align: top;\n",
       "    }\n",
       "\n",
       "    .dataframe thead th {\n",
       "        text-align: right;\n",
       "    }\n",
       "</style>\n",
       "<table border=\"1\" class=\"dataframe\">\n",
       "  <thead>\n",
       "    <tr style=\"text-align: right;\">\n",
       "      <th></th>\n",
       "      <th>C/A</th>\n",
       "      <th>UNIT</th>\n",
       "      <th>SCP</th>\n",
       "      <th>STATION</th>\n",
       "      <th>LINENAME</th>\n",
       "      <th>DIVISION</th>\n",
       "      <th>DATE</th>\n",
       "      <th>TIME</th>\n",
       "      <th>DESC</th>\n",
       "      <th>ENTRIES</th>\n",
       "      <th>EXITS</th>\n",
       "      <th>CHANGE_AMOUNT_OF_EXITS</th>\n",
       "      <th>DATE_TIME</th>\n",
       "    </tr>\n",
       "  </thead>\n",
       "  <tbody>\n",
       "    <tr>\n",
       "      <th>0</th>\n",
       "      <td>A002</td>\n",
       "      <td>R051</td>\n",
       "      <td>02-00-00</td>\n",
       "      <td>59 ST</td>\n",
       "      <td>NQR456W</td>\n",
       "      <td>BMT</td>\n",
       "      <td>08/21/2021</td>\n",
       "      <td>00:00:00</td>\n",
       "      <td>REGULAR</td>\n",
       "      <td>7622548</td>\n",
       "      <td>2607689</td>\n",
       "      <td>NaN</td>\n",
       "      <td>2021-08-21 00:00:00</td>\n",
       "    </tr>\n",
       "    <tr>\n",
       "      <th>1</th>\n",
       "      <td>A002</td>\n",
       "      <td>R051</td>\n",
       "      <td>02-00-00</td>\n",
       "      <td>59 ST</td>\n",
       "      <td>NQR456W</td>\n",
       "      <td>BMT</td>\n",
       "      <td>08/21/2021</td>\n",
       "      <td>04:00:00</td>\n",
       "      <td>REGULAR</td>\n",
       "      <td>7622561</td>\n",
       "      <td>2607697</td>\n",
       "      <td>8.0</td>\n",
       "      <td>2021-08-21 04:00:00</td>\n",
       "    </tr>\n",
       "    <tr>\n",
       "      <th>2</th>\n",
       "      <td>A002</td>\n",
       "      <td>R051</td>\n",
       "      <td>02-00-00</td>\n",
       "      <td>59 ST</td>\n",
       "      <td>NQR456W</td>\n",
       "      <td>BMT</td>\n",
       "      <td>08/21/2021</td>\n",
       "      <td>08:00:00</td>\n",
       "      <td>REGULAR</td>\n",
       "      <td>7622573</td>\n",
       "      <td>2607718</td>\n",
       "      <td>21.0</td>\n",
       "      <td>2021-08-21 08:00:00</td>\n",
       "    </tr>\n",
       "    <tr>\n",
       "      <th>3</th>\n",
       "      <td>A002</td>\n",
       "      <td>R051</td>\n",
       "      <td>02-00-00</td>\n",
       "      <td>59 ST</td>\n",
       "      <td>NQR456W</td>\n",
       "      <td>BMT</td>\n",
       "      <td>08/21/2021</td>\n",
       "      <td>12:00:00</td>\n",
       "      <td>REGULAR</td>\n",
       "      <td>7622604</td>\n",
       "      <td>2607766</td>\n",
       "      <td>48.0</td>\n",
       "      <td>2021-08-21 12:00:00</td>\n",
       "    </tr>\n",
       "    <tr>\n",
       "      <th>4</th>\n",
       "      <td>A002</td>\n",
       "      <td>R051</td>\n",
       "      <td>02-00-00</td>\n",
       "      <td>59 ST</td>\n",
       "      <td>NQR456W</td>\n",
       "      <td>BMT</td>\n",
       "      <td>08/21/2021</td>\n",
       "      <td>16:00:00</td>\n",
       "      <td>REGULAR</td>\n",
       "      <td>7622715</td>\n",
       "      <td>2607802</td>\n",
       "      <td>36.0</td>\n",
       "      <td>2021-08-21 16:00:00</td>\n",
       "    </tr>\n",
       "  </tbody>\n",
       "</table>\n",
       "</div>"
      ],
      "text/plain": [
       "    C/A  UNIT       SCP STATION LINENAME DIVISION        DATE      TIME  \\\n",
       "0  A002  R051  02-00-00   59 ST  NQR456W      BMT  08/21/2021  00:00:00   \n",
       "1  A002  R051  02-00-00   59 ST  NQR456W      BMT  08/21/2021  04:00:00   \n",
       "2  A002  R051  02-00-00   59 ST  NQR456W      BMT  08/21/2021  08:00:00   \n",
       "3  A002  R051  02-00-00   59 ST  NQR456W      BMT  08/21/2021  12:00:00   \n",
       "4  A002  R051  02-00-00   59 ST  NQR456W      BMT  08/21/2021  16:00:00   \n",
       "\n",
       "      DESC  ENTRIES    EXITS  CHANGE_AMOUNT_OF_EXITS           DATE_TIME  \n",
       "0  REGULAR  7622548  2607689                     NaN 2021-08-21 00:00:00  \n",
       "1  REGULAR  7622561  2607697                     8.0 2021-08-21 04:00:00  \n",
       "2  REGULAR  7622573  2607718                    21.0 2021-08-21 08:00:00  \n",
       "3  REGULAR  7622604  2607766                    48.0 2021-08-21 12:00:00  \n",
       "4  REGULAR  7622715  2607802                    36.0 2021-08-21 16:00:00  "
      ]
     },
     "execution_count": 8,
     "metadata": {},
     "output_type": "execute_result"
    }
   ],
   "source": [
    "subway.head()"
   ]
  },
  {
   "cell_type": "code",
   "execution_count": 9,
   "metadata": {},
   "outputs": [],
   "source": [
    "# daily exits for each c/a, unit, scp, station and date\n",
    "turnstiles_daily_exits = (subway\n",
    "                        .groupby([\"C/A\", \"UNIT\", \"SCP\", \"STATION\", \"DATE\"],as_index=False)\n",
    "                        .EXITS.first())"
   ]
  },
  {
   "cell_type": "code",
   "execution_count": 10,
   "metadata": {},
   "outputs": [
    {
     "data": {
      "text/html": [
       "<div>\n",
       "<style scoped>\n",
       "    .dataframe tbody tr th:only-of-type {\n",
       "        vertical-align: middle;\n",
       "    }\n",
       "\n",
       "    .dataframe tbody tr th {\n",
       "        vertical-align: top;\n",
       "    }\n",
       "\n",
       "    .dataframe thead th {\n",
       "        text-align: right;\n",
       "    }\n",
       "</style>\n",
       "<table border=\"1\" class=\"dataframe\">\n",
       "  <thead>\n",
       "    <tr style=\"text-align: right;\">\n",
       "      <th></th>\n",
       "      <th>C/A</th>\n",
       "      <th>UNIT</th>\n",
       "      <th>SCP</th>\n",
       "      <th>STATION</th>\n",
       "      <th>DATE</th>\n",
       "      <th>EXITS</th>\n",
       "    </tr>\n",
       "  </thead>\n",
       "  <tbody>\n",
       "    <tr>\n",
       "      <th>0</th>\n",
       "      <td>A002</td>\n",
       "      <td>R051</td>\n",
       "      <td>02-00-00</td>\n",
       "      <td>59 ST</td>\n",
       "      <td>05/29/2021</td>\n",
       "      <td>2590325</td>\n",
       "    </tr>\n",
       "    <tr>\n",
       "      <th>1</th>\n",
       "      <td>A002</td>\n",
       "      <td>R051</td>\n",
       "      <td>02-00-00</td>\n",
       "      <td>59 ST</td>\n",
       "      <td>05/30/2021</td>\n",
       "      <td>2590451</td>\n",
       "    </tr>\n",
       "    <tr>\n",
       "      <th>2</th>\n",
       "      <td>A002</td>\n",
       "      <td>R051</td>\n",
       "      <td>02-00-00</td>\n",
       "      <td>59 ST</td>\n",
       "      <td>05/31/2021</td>\n",
       "      <td>2590560</td>\n",
       "    </tr>\n",
       "    <tr>\n",
       "      <th>3</th>\n",
       "      <td>A002</td>\n",
       "      <td>R051</td>\n",
       "      <td>02-00-00</td>\n",
       "      <td>59 ST</td>\n",
       "      <td>06/01/2021</td>\n",
       "      <td>2590651</td>\n",
       "    </tr>\n",
       "    <tr>\n",
       "      <th>4</th>\n",
       "      <td>A002</td>\n",
       "      <td>R051</td>\n",
       "      <td>02-00-00</td>\n",
       "      <td>59 ST</td>\n",
       "      <td>06/02/2021</td>\n",
       "      <td>2590926</td>\n",
       "    </tr>\n",
       "  </tbody>\n",
       "</table>\n",
       "</div>"
      ],
      "text/plain": [
       "    C/A  UNIT       SCP STATION        DATE    EXITS\n",
       "0  A002  R051  02-00-00   59 ST  05/29/2021  2590325\n",
       "1  A002  R051  02-00-00   59 ST  05/30/2021  2590451\n",
       "2  A002  R051  02-00-00   59 ST  05/31/2021  2590560\n",
       "3  A002  R051  02-00-00   59 ST  06/01/2021  2590651\n",
       "4  A002  R051  02-00-00   59 ST  06/02/2021  2590926"
      ]
     },
     "execution_count": 10,
     "metadata": {},
     "output_type": "execute_result"
    }
   ],
   "source": [
    "turnstiles_daily_exits.head()"
   ]
  },
  {
   "cell_type": "code",
   "execution_count": null,
   "metadata": {},
   "outputs": [],
   "source": []
  },
  {
   "cell_type": "code",
   "execution_count": 11,
   "metadata": {},
   "outputs": [
    {
     "data": {
      "text/plain": [
       "Text(0, 0.5, 'Number of exits recorded in millions')"
      ]
     },
     "execution_count": 11,
     "metadata": {},
     "output_type": "execute_result"
    },
    {
     "data": {
      "image/png": "[encoded data removed]",
      "text/plain": [
       "<Figure size 864x432 with 1 Axes>"
      ]
     },
     "metadata": {
      "needs_background": "light"
     },
     "output_type": "display_data"
    }
   ],
   "source": [
    "# Traffic is defined by the total number of exits recorded\n",
    "# The station with the most total exits recorded are considered the stations with the highest traffic.\n",
    "turnstiles_daily_exits.groupby(\"STATION\").sum().sort_values(\"EXITS\", ascending=False).head(5).plot(kind='bar', color=\"green\", figsize=(12,6), title='5 busiest subway stations based on number of exits recorded', width=0.8,\n",
    "                                                                                                  edgecolor='black')\n",
    "plt.ylabel(\"Number of exits recorded in millions\")\n"
   ]
  },
  {
   "cell_type": "code",
   "execution_count": null,
   "metadata": {},
   "outputs": [],
   "source": []
  },
  {
   "cell_type": "code",
   "execution_count": 12,
   "metadata": {},
   "outputs": [
    {
     "data": {
      "text/html": [
       "<div>\n",
       "<style scoped>\n",
       "    .dataframe tbody tr th:only-of-type {\n",
       "        vertical-align: middle;\n",
       "    }\n",
       "\n",
       "    .dataframe tbody tr th {\n",
       "        vertical-align: top;\n",
       "    }\n",
       "\n",
       "    .dataframe thead th {\n",
       "        text-align: right;\n",
       "    }\n",
       "</style>\n",
       "<table border=\"1\" class=\"dataframe\">\n",
       "  <thead>\n",
       "    <tr style=\"text-align: right;\">\n",
       "      <th></th>\n",
       "      <th>STATION</th>\n",
       "      <th>LATITUDE</th>\n",
       "      <th>LONGITUDE</th>\n",
       "    </tr>\n",
       "  </thead>\n",
       "  <tbody>\n",
       "    <tr>\n",
       "      <th>0</th>\n",
       "      <td>42 ST-PORT AUTH</td>\n",
       "      <td>40.756903</td>\n",
       "      <td>-73.990437</td>\n",
       "    </tr>\n",
       "    <tr>\n",
       "      <th>1</th>\n",
       "      <td>23 ST</td>\n",
       "      <td>40.743069</td>\n",
       "      <td>-73.993064</td>\n",
       "    </tr>\n",
       "    <tr>\n",
       "      <th>2</th>\n",
       "      <td>125 ST</td>\n",
       "      <td>40.810992</td>\n",
       "      <td>-73.952646</td>\n",
       "    </tr>\n",
       "    <tr>\n",
       "      <th>3</th>\n",
       "      <td>CANAL ST</td>\n",
       "      <td>40.719555</td>\n",
       "      <td>-74.001789</td>\n",
       "    </tr>\n",
       "    <tr>\n",
       "      <th>4</th>\n",
       "      <td>34 ST-PENN STA</td>\n",
       "      <td>40.752508</td>\n",
       "      <td>-73.993382</td>\n",
       "    </tr>\n",
       "  </tbody>\n",
       "</table>\n",
       "</div>"
      ],
      "text/plain": [
       "           STATION   LATITUDE  LONGITUDE\n",
       "0  42 ST-PORT AUTH  40.756903 -73.990437\n",
       "1            23 ST  40.743069 -73.993064\n",
       "2           125 ST  40.810992 -73.952646\n",
       "3         CANAL ST  40.719555 -74.001789\n",
       "4   34 ST-PENN STA  40.752508 -73.993382"
      ]
     },
     "execution_count": 12,
     "metadata": {},
     "output_type": "execute_result"
    }
   ],
   "source": [
    "# Creating a data frame that has the 5 busiest subway stations and their coordinates (latitude, longitude)\n",
    "\n",
    "latitude = [40.756903, 40.743069, 40.810992387899745, 40.719555, 40.752508421754506]\n",
    "longitude = [-73.990437, -73.993064, -73.95264644618936, -74.001789, -73.99338227317493]\n",
    "station = ['42 ST-PORT AUTH', '23 ST', '125 ST', 'CANAL ST', '34 ST-PENN STA' ]\n",
    "\n",
    "top_busiest_sub_stations = pd.DataFrame({\"STATION\": station, \"LATITUDE\": latitude, \"LONGITUDE\": longitude})\n",
    "top_busiest_sub_stations.head()"
   ]
  },
  {
   "cell_type": "code",
   "execution_count": null,
   "metadata": {},
   "outputs": [],
   "source": []
  },
  {
   "cell_type": "markdown",
   "metadata": {},
   "source": [
    "## Finding what are the busiest hours for each subway station"
   ]
  },
  {
   "cell_type": "markdown",
   "metadata": {},
   "source": [
    "### 42 ST-PORT AUTH - at 19:00, 20:00 was the highest number of exits recorded "
   ]
  },
  {
   "cell_type": "code",
   "execution_count": 13,
   "metadata": {
    "scrolled": true
   },
   "outputs": [
    {
     "data": {
      "text/plain": [
       "Text(0, 0.5, 'Mean of exits recorded at each hour')"
      ]
     },
     "execution_count": 13,
     "metadata": {},
     "output_type": "execute_result"
    },
    {
     "data": {
      "image/png": "[encoded data removed]",
      "text/plain": [
       "<Figure size 864x432 with 1 Axes>"
      ]
     },
     "metadata": {
      "needs_background": "light"
     },
     "output_type": "display_data"
    }
   ],
   "source": [
    "# Let's look for the time in which each of these stations is the busiest\n",
    "# NOTE: Not all the hours have been recorded the same number of times\n",
    "\n",
    "ST_PORT_42 = subway[subway['STATION'] == '42 ST-PORT AUTH']\n",
    "ST_PORT_42[1:].groupby(\"TIME\")['CHANGE_AMOUNT_OF_EXITS'].mean().sort_values(ascending=False).head(7).plot(kind='bar', color='green', figsize=(12,6), title='Number of exits recorded per hour at 42 ST-PORT AUTH', edgecolor='black')\n",
    "plt.ylabel(\"Mean of exits recorded at each hour\")"
   ]
  },
  {
   "cell_type": "code",
   "execution_count": null,
   "metadata": {},
   "outputs": [],
   "source": []
  },
  {
   "cell_type": "code",
   "execution_count": null,
   "metadata": {},
   "outputs": [],
   "source": []
  },
  {
   "cell_type": "code",
   "execution_count": null,
   "metadata": {},
   "outputs": [],
   "source": []
  },
  {
   "cell_type": "markdown",
   "metadata": {},
   "source": [
    "### 23 ST"
   ]
  },
  {
   "cell_type": "code",
   "execution_count": 14,
   "metadata": {},
   "outputs": [],
   "source": [
    "ST_23 = subway[subway['STATION'] == '23 ST']"
   ]
  },
  {
   "cell_type": "code",
   "execution_count": 15,
   "metadata": {},
   "outputs": [],
   "source": [
    "# 08:00:00, 09:00:00, 12:00:00, 13:00:00, 16:00:00, 17:00:00, 20:00:00, 21:00:00\n",
    "ST_23 = ST_23[(ST_23['TIME'] == '08:00:00') | (ST_23['TIME'] == '09:00:00') |\n",
    "        (ST_23['TIME'] == '12:00:00') | (ST_23['TIME'] == '13:00:00') | (ST_23['TIME'] == '16:00:00') |\n",
    "                (ST_23['TIME'] == '17:00:00') | (ST_23['TIME'] == '20:00:00') | (ST_23['TIME'] == '21:00:00')]"
   ]
  },
  {
   "cell_type": "code",
   "execution_count": 16,
   "metadata": {},
   "outputs": [
    {
     "data": {
      "text/plain": [
       "Text(0, 0.5, 'Mean of exits recorded at each hour')"
      ]
     },
     "execution_count": 16,
     "metadata": {},
     "output_type": "execute_result"
    },
    {
     "data": {
      "image/png": "[encoded data removed]",
      "text/plain": [
       "<Figure size 864x432 with 1 Axes>"
      ]
     },
     "metadata": {
      "needs_background": "light"
     },
     "output_type": "display_data"
    }
   ],
   "source": [
    "ST_23.groupby(\"TIME\")['CHANGE_AMOUNT_OF_EXITS'].mean().sort_values(ascending=False).head(7).plot(kind='bar', color='maroon', figsize=(12,6), title='Number of exits recorded per hour at 23 ST', edgecolor='white')\n",
    "plt.ylabel(\"Mean of exits recorded at each hour\")"
   ]
  },
  {
   "cell_type": "code",
   "execution_count": null,
   "metadata": {},
   "outputs": [],
   "source": []
  },
  {
   "cell_type": "code",
   "execution_count": null,
   "metadata": {},
   "outputs": [],
   "source": []
  },
  {
   "cell_type": "markdown",
   "metadata": {},
   "source": [
    "## 125 ST"
   ]
  },
  {
   "cell_type": "code",
   "execution_count": 17,
   "metadata": {},
   "outputs": [],
   "source": [
    "ST_125 = subway[subway['STATION'] == '125 ST']"
   ]
  },
  {
   "cell_type": "code",
   "execution_count": 18,
   "metadata": {},
   "outputs": [],
   "source": [
    "# 08:00:00, 09:00:00, 12:00:00, 13:00:00, 16:00:00, 17:00:00,  20:00:00, 21:00:00 \n",
    "ST_125 = ST_125[(ST_125['TIME'] == '08:00:00') | (ST_125['TIME'] == '09:00:00') |\n",
    "        (ST_125['TIME'] == '12:00:00') | (ST_125['TIME'] == '13:00:00') | (ST_125['TIME'] == '16:00:00') |\n",
    "                (ST_125['TIME'] == '17:00:00') | (ST_125['TIME'] == '20:00:00') | (ST_125['TIME'] == '21:00:00')]"
   ]
  },
  {
   "cell_type": "code",
   "execution_count": 19,
   "metadata": {},
   "outputs": [
    {
     "data": {
      "text/plain": [
       "Text(0, 0.5, 'Mean of exits recorded at each hour')"
      ]
     },
     "execution_count": 19,
     "metadata": {},
     "output_type": "execute_result"
    },
    {
     "data": {
      "image/png": "[encoded data removed]",
      "text/plain": [
       "<Figure size 864x432 with 1 Axes>"
      ]
     },
     "metadata": {
      "needs_background": "light"
     },
     "output_type": "display_data"
    }
   ],
   "source": [
    "ST_125.groupby(\"TIME\")['CHANGE_AMOUNT_OF_EXITS'].mean().sort_values(ascending=False).head(7).plot(kind='bar', color='darkblue', figsize=(12,6), title='Number of exits recorded per hour at 125 ST', edgecolor='white')\n",
    "plt.ylabel(\"Mean of exits recorded at each hour\")"
   ]
  },
  {
   "cell_type": "code",
   "execution_count": null,
   "metadata": {},
   "outputs": [],
   "source": []
  },
  {
   "cell_type": "markdown",
   "metadata": {},
   "source": [
    "## Canal ST"
   ]
  },
  {
   "cell_type": "code",
   "execution_count": 20,
   "metadata": {},
   "outputs": [],
   "source": [
    "ST_CANAL = subway[subway['STATION'] == 'CANAL ST']"
   ]
  },
  {
   "cell_type": "code",
   "execution_count": 21,
   "metadata": {},
   "outputs": [],
   "source": [
    "# 01:00:00, 05:00:00, 09:00:00, 13:00:00, 17:00:00, 21:00:00\n",
    "ST_CANAL = ST_CANAL[(ST_CANAL['TIME'] == '05:00:00') | (ST_CANAL['TIME'] == '09:00:00') |\n",
    "        (ST_CANAL['TIME'] == '13:00:00') | (ST_CANAL['TIME'] == '17:00:00') | (ST_CANAL['TIME'] == '21:00:00')]"
   ]
  },
  {
   "cell_type": "code",
   "execution_count": 22,
   "metadata": {},
   "outputs": [
    {
     "data": {
      "text/plain": [
       "Text(0, 0.5, 'Mean of exits recorded at each hour')"
      ]
     },
     "execution_count": 22,
     "metadata": {},
     "output_type": "execute_result"
    },
    {
     "data": {
      "image/png": "[encoded data removed]",
      "text/plain": [
       "<Figure size 864x432 with 1 Axes>"
      ]
     },
     "metadata": {
      "needs_background": "light"
     },
     "output_type": "display_data"
    }
   ],
   "source": [
    "ST_CANAL.groupby(\"TIME\")['CHANGE_AMOUNT_OF_EXITS'].mean().sort_values(ascending=False).head(7).plot(kind='bar', color='coral', figsize=(12,6), title='Number of exits recorded per hour at Canal ST', edgecolor='black')\n",
    "plt.ylabel(\"Mean of exits recorded at each hour\")"
   ]
  },
  {
   "cell_type": "code",
   "execution_count": null,
   "metadata": {},
   "outputs": [],
   "source": []
  },
  {
   "cell_type": "markdown",
   "metadata": {},
   "source": [
    "## 34 ST-PENN STA"
   ]
  },
  {
   "cell_type": "code",
   "execution_count": 23,
   "metadata": {},
   "outputs": [],
   "source": [
    "PENN = subway[subway['STATION'] == '34 ST-PENN STA']"
   ]
  },
  {
   "cell_type": "code",
   "execution_count": 24,
   "metadata": {},
   "outputs": [],
   "source": [
    "# 08:00:00, 10:00:00,  12:00:00, 14:00:00, 16:00:00, 18:00:00 20:00:00, 22:00:00\n",
    "PENN = PENN[(PENN['TIME'] == '08:00:00') | (PENN['TIME'] == '10:00:00') |\n",
    "        (PENN['TIME'] == '12:00:00') | (PENN['TIME'] == '14:00:00') | (PENN['TIME'] == '16:00:00') | (PENN['TIME'] == '18:00:00') |\n",
    "            (PENN['TIME'] == '20:00:00') | (PENN['TIME'] == '22:00:00')]"
   ]
  },
  {
   "cell_type": "code",
   "execution_count": 25,
   "metadata": {},
   "outputs": [
    {
     "data": {
      "text/plain": [
       "Text(0, 0.5, 'Mean of exits recorded at each hour')"
      ]
     },
     "execution_count": 25,
     "metadata": {},
     "output_type": "execute_result"
    },
    {
     "data": {
      "image/png": "[encoded data removed]",
      "text/plain": [
       "<Figure size 864x432 with 1 Axes>"
      ]
     },
     "metadata": {
      "needs_background": "light"
     },
     "output_type": "display_data"
    }
   ],
   "source": [
    "PENN.groupby(\"TIME\")['CHANGE_AMOUNT_OF_EXITS'].mean().sort_values(ascending=False).head(7).plot(kind='bar', color='seagreen', figsize=(12,6), title='Number of exits recorded per hour at 34 ST-PENN STA', edgecolor='black')\n",
    "plt.ylabel(\"Mean of exits recorded at each hour\")"
   ]
  },
  {
   "cell_type": "code",
   "execution_count": null,
   "metadata": {},
   "outputs": [],
   "source": []
  },
  {
   "cell_type": "code",
   "execution_count": 26,
   "metadata": {},
   "outputs": [],
   "source": [
    "## Subplots with all the charts"
   ]
  },
  {
   "cell_type": "code",
   "execution_count": 27,
   "metadata": {},
   "outputs": [
    {
     "data": {
      "image/png": "[encoded data removed]",
      "text/plain": [
       "<Figure size 864x432 with 5 Axes>"
      ]
     },
     "metadata": {
      "needs_background": "light"
     },
     "output_type": "display_data"
    }
   ],
   "source": [
    "plt.figure(figsize=(18,36))\n",
    "\n",
    "plt.subplot(1,5,1)\n",
    "ST_PORT_42[1:].groupby(\"TIME\")['CHANGE_AMOUNT_OF_EXITS'].mean().sort_values(ascending=False).head(7).plot(kind='bar', color='green', figsize=(12,6), title='42 ST-PORT AUTH', edgecolor='black')\n",
    "plt.ylabel(\"Mean of exits recorded at each hour\")\n",
    "\n",
    "\n",
    "plt.subplot(1,5,2)\n",
    "ST_23.groupby(\"TIME\")['CHANGE_AMOUNT_OF_EXITS'].mean().sort_values(ascending=False).head(7).plot(kind='bar', color='maroon', figsize=(12,6), title='23 ST', edgecolor='white')\n",
    "plt.ylabel(\"Mean of exits recorded at each hour\")\n",
    "\n",
    "\n",
    "\n",
    "plt.subplot(1,5,3)\n",
    "ST_125.groupby(\"TIME\")['CHANGE_AMOUNT_OF_EXITS'].mean().sort_values(ascending=False).head(7).plot(kind='bar', color='darkblue', figsize=(12,6), title='125 ST', edgecolor='white')\n",
    "plt.ylabel(\"Mean of exits recorded at each hour\")\n",
    "\n",
    "\n",
    "plt.subplot(1,5,4)\n",
    "ST_CANAL.groupby(\"TIME\")['CHANGE_AMOUNT_OF_EXITS'].mean().sort_values(ascending=False).head(7).plot(kind='bar', color='coral', figsize=(12,6), title='Canal ST', edgecolor='black')\n",
    "plt.ylabel(\"Mean of exits recorded at each hour\")\n",
    "\n",
    "\n",
    "plt.subplot(1,5,5)\n",
    "PENN.groupby(\"TIME\")['CHANGE_AMOUNT_OF_EXITS'].mean().sort_values(ascending=False).head(7).plot(kind='bar', color='seagreen', figsize=(12,6), title='34 ST-PENN STA', edgecolor='black')\n",
    "plt.ylabel(\"Mean of exits recorded at each hour\")\n",
    "\n",
    "plt.tight_layout(pad=3.0)"
   ]
  },
  {
   "cell_type": "code",
   "execution_count": null,
   "metadata": {},
   "outputs": [],
   "source": []
  },
  {
   "cell_type": "markdown",
   "metadata": {},
   "source": [
    "# Citi Bike analysis"
   ]
  },
  {
   "cell_type": "code",
   "execution_count": 28,
   "metadata": {},
   "outputs": [
    {
     "name": "stderr",
     "output_type": "stream",
     "text": [
      "/opt/anaconda3/lib/python3.7/site-packages/IPython/core/interactiveshell.py:3063: DtypeWarning: Columns (7) have mixed types.Specify dtype option on import or set low_memory=False.\n",
      "  interactivity=interactivity, compiler=compiler, result=result)\n"
     ]
    }
   ],
   "source": [
    "# Citi Bike data from June, July and August\n",
    "data_06 = pd.read_csv('202106-citibike-tripdata.csv')\n",
    "data_07 = pd.read_csv('202107-citibike-tripdata.csv')\n",
    "data_08 = pd.read_csv('202108-citibike-tripdata.csv')\n"
   ]
  },
  {
   "cell_type": "code",
   "execution_count": 29,
   "metadata": {},
   "outputs": [
    {
     "data": {
      "text/html": [
       "<div>\n",
       "<style scoped>\n",
       "    .dataframe tbody tr th:only-of-type {\n",
       "        vertical-align: middle;\n",
       "    }\n",
       "\n",
       "    .dataframe tbody tr th {\n",
       "        vertical-align: top;\n",
       "    }\n",
       "\n",
       "    .dataframe thead th {\n",
       "        text-align: right;\n",
       "    }\n",
       "</style>\n",
       "<table border=\"1\" class=\"dataframe\">\n",
       "  <thead>\n",
       "    <tr style=\"text-align: right;\">\n",
       "      <th></th>\n",
       "      <th>ride_id</th>\n",
       "      <th>rideable_type</th>\n",
       "      <th>started_at</th>\n",
       "      <th>ended_at</th>\n",
       "      <th>start_station_name</th>\n",
       "      <th>start_station_id</th>\n",
       "      <th>end_station_name</th>\n",
       "      <th>end_station_id</th>\n",
       "      <th>start_lat</th>\n",
       "      <th>start_lng</th>\n",
       "      <th>end_lat</th>\n",
       "      <th>end_lng</th>\n",
       "      <th>member_casual</th>\n",
       "    </tr>\n",
       "  </thead>\n",
       "  <tbody>\n",
       "    <tr>\n",
       "      <th>0</th>\n",
       "      <td>6339C86D47EC0FAB</td>\n",
       "      <td>docked_bike</td>\n",
       "      <td>2021-06-02 17:18:45</td>\n",
       "      <td>2021-06-02 17:26:17</td>\n",
       "      <td>W 51 St &amp; 6 Ave</td>\n",
       "      <td>6740.10</td>\n",
       "      <td>E 66 St &amp; Madison Ave</td>\n",
       "      <td>6969.08</td>\n",
       "      <td>40.760659</td>\n",
       "      <td>-73.980420</td>\n",
       "      <td>40.768009</td>\n",
       "      <td>-73.968453</td>\n",
       "      <td>member</td>\n",
       "    </tr>\n",
       "    <tr>\n",
       "      <th>1</th>\n",
       "      <td>CDE3C147775B4002</td>\n",
       "      <td>docked_bike</td>\n",
       "      <td>2021-06-04 21:01:46</td>\n",
       "      <td>2021-06-04 21:32:09</td>\n",
       "      <td>W 56 St &amp; 10 Ave</td>\n",
       "      <td>6955.01</td>\n",
       "      <td>E 9 St &amp; Avenue C</td>\n",
       "      <td>5616.01</td>\n",
       "      <td>40.768254</td>\n",
       "      <td>-73.988639</td>\n",
       "      <td>40.725213</td>\n",
       "      <td>-73.977688</td>\n",
       "      <td>member</td>\n",
       "    </tr>\n",
       "    <tr>\n",
       "      <th>2</th>\n",
       "      <td>D335C3F6B412B846</td>\n",
       "      <td>docked_bike</td>\n",
       "      <td>2021-06-15 16:39:36</td>\n",
       "      <td>2021-06-15 16:55:02</td>\n",
       "      <td>E 56 St &amp; Madison Ave</td>\n",
       "      <td>6732.01</td>\n",
       "      <td>E 16 St &amp; 5 Ave</td>\n",
       "      <td>6022.04</td>\n",
       "      <td>40.761573</td>\n",
       "      <td>-73.972628</td>\n",
       "      <td>40.737262</td>\n",
       "      <td>-73.992390</td>\n",
       "      <td>member</td>\n",
       "    </tr>\n",
       "    <tr>\n",
       "      <th>3</th>\n",
       "      <td>8DA6810777C89735</td>\n",
       "      <td>docked_bike</td>\n",
       "      <td>2021-06-08 11:36:40</td>\n",
       "      <td>2021-06-08 11:39:41</td>\n",
       "      <td>E 68 St &amp; 3 Ave</td>\n",
       "      <td>6896.16</td>\n",
       "      <td>1 Ave &amp; E 62 St</td>\n",
       "      <td>6753.08</td>\n",
       "      <td>40.767128</td>\n",
       "      <td>-73.962246</td>\n",
       "      <td>40.761227</td>\n",
       "      <td>-73.960940</td>\n",
       "      <td>member</td>\n",
       "    </tr>\n",
       "    <tr>\n",
       "      <th>4</th>\n",
       "      <td>62D9B66A3A1D9FDF</td>\n",
       "      <td>docked_bike</td>\n",
       "      <td>2021-06-18 12:48:43</td>\n",
       "      <td>2021-06-18 13:04:14</td>\n",
       "      <td>E 48 St &amp; 5 Ave</td>\n",
       "      <td>6626.01</td>\n",
       "      <td>W 20 St &amp; 8 Ave</td>\n",
       "      <td>6224.05</td>\n",
       "      <td>40.757245</td>\n",
       "      <td>-73.978059</td>\n",
       "      <td>40.743453</td>\n",
       "      <td>-74.000040</td>\n",
       "      <td>member</td>\n",
       "    </tr>\n",
       "  </tbody>\n",
       "</table>\n",
       "</div>"
      ],
      "text/plain": [
       "            ride_id rideable_type           started_at             ended_at  \\\n",
       "0  6339C86D47EC0FAB   docked_bike  2021-06-02 17:18:45  2021-06-02 17:26:17   \n",
       "1  CDE3C147775B4002   docked_bike  2021-06-04 21:01:46  2021-06-04 21:32:09   \n",
       "2  D335C3F6B412B846   docked_bike  2021-06-15 16:39:36  2021-06-15 16:55:02   \n",
       "3  8DA6810777C89735   docked_bike  2021-06-08 11:36:40  2021-06-08 11:39:41   \n",
       "4  62D9B66A3A1D9FDF   docked_bike  2021-06-18 12:48:43  2021-06-18 13:04:14   \n",
       "\n",
       "      start_station_name  start_station_id       end_station_name  \\\n",
       "0        W 51 St & 6 Ave           6740.10  E 66 St & Madison Ave   \n",
       "1       W 56 St & 10 Ave           6955.01      E 9 St & Avenue C   \n",
       "2  E 56 St & Madison Ave           6732.01        E 16 St & 5 Ave   \n",
       "3        E 68 St & 3 Ave           6896.16        1 Ave & E 62 St   \n",
       "4        E 48 St & 5 Ave           6626.01        W 20 St & 8 Ave   \n",
       "\n",
       "  end_station_id  start_lat  start_lng    end_lat    end_lng member_casual  \n",
       "0        6969.08  40.760659 -73.980420  40.768009 -73.968453        member  \n",
       "1        5616.01  40.768254 -73.988639  40.725213 -73.977688        member  \n",
       "2        6022.04  40.761573 -73.972628  40.737262 -73.992390        member  \n",
       "3        6753.08  40.767128 -73.962246  40.761227 -73.960940        member  \n",
       "4        6224.05  40.757245 -73.978059  40.743453 -74.000040        member  "
      ]
     },
     "execution_count": 29,
     "metadata": {},
     "output_type": "execute_result"
    }
   ],
   "source": [
    "# concatenating all three datasets into one\n",
    "bike_data = pd.concat([data_06, data_07, data_08])\n",
    "bike_data.head()"
   ]
  },
  {
   "cell_type": "code",
   "execution_count": 30,
   "metadata": {},
   "outputs": [],
   "source": [
    "# renaming some columns\n",
    "bike_data.rename(columns = {\"started_at\": \"starttime\", \"ended_at\": \"stoptime\", \n",
    "                            \"start_station_name\": \"start station name\", \"start_lat\": \"start station latitude\", \n",
    "                           \"start_lng\": \"start station longitude\"}, inplace=True)"
   ]
  },
  {
   "cell_type": "code",
   "execution_count": 31,
   "metadata": {},
   "outputs": [
    {
     "name": "stdout",
     "output_type": "stream",
     "text": [
      "<class 'pandas.core.frame.DataFrame'>\n",
      "Int64Index: 9334532 entries, 0 to 3072477\n",
      "Data columns (total 13 columns):\n",
      " #   Column                   Dtype  \n",
      "---  ------                   -----  \n",
      " 0   ride_id                  object \n",
      " 1   rideable_type            object \n",
      " 2   starttime                object \n",
      " 3   stoptime                 object \n",
      " 4   start station name       object \n",
      " 5   start_station_id         float64\n",
      " 6   end_station_name         object \n",
      " 7   end_station_id           object \n",
      " 8   start station latitude   float64\n",
      " 9   start station longitude  float64\n",
      " 10  end_lat                  float64\n",
      " 11  end_lng                  float64\n",
      " 12  member_casual            object \n",
      "dtypes: float64(5), object(8)\n",
      "memory usage: 997.0+ MB\n"
     ]
    }
   ],
   "source": [
    "bike_data.info()"
   ]
  },
  {
   "cell_type": "code",
   "execution_count": 32,
   "metadata": {},
   "outputs": [
    {
     "data": {
      "text/plain": [
       "(9334532, 13)"
      ]
     },
     "execution_count": 32,
     "metadata": {},
     "output_type": "execute_result"
    }
   ],
   "source": [
    "# over 9 million rows of data\n",
    "bike_data.shape"
   ]
  },
  {
   "cell_type": "code",
   "execution_count": 33,
   "metadata": {},
   "outputs": [
    {
     "data": {
      "text/plain": [
       "1501"
      ]
     },
     "execution_count": 33,
     "metadata": {},
     "output_type": "execute_result"
    }
   ],
   "source": [
    "# a list with each different bike station\n",
    "the_station = list(bike_data.groupby(\"start station name\")['start station latitude'].count().index)\n",
    "len(the_station)"
   ]
  },
  {
   "cell_type": "code",
   "execution_count": 34,
   "metadata": {},
   "outputs": [
    {
     "data": {
      "text/plain": [
       "'# Getting the latitude for each bike station\\n#lati = []\\n\\n#for i in the_station:\\n   # lati.append(bike_data[bike_data[\\'start station name\\'] == str(i)][\\'start station latitude\\'].value_counts().index[0])\\n    \\n\\n# Getting the longitude for each bike station\\n#longi = []\\n\\n#for i in the_station:\\n    #longi.append(bike_data[bike_data[\\'start station name\\'] == str(i)][\\'start station longitude\\'].value_counts().index[0])\\n    \\n    \\nlen(the_station) == len(lati) == len(longi)\\n\\n\\n# Create a dataframe that includes the following columns: The station name, Latitude, Longitude\\nstation_latitude_longitude_df = pd.DataFrame({\"station\": the_station, \"latitude\": lati, \"longitude\": longi})\\nstation_latitude_longitude_df.shape\\n\\n\\n# I am saving it to a csv file to be able to use it easily\\nstation_latitude_longitude_df.to_csv(\"station_latitude_longitude_df.csv\", index=False)\\nstation_latitude_longitude_df.head()'"
      ]
     },
     "execution_count": 34,
     "metadata": {},
     "output_type": "execute_result"
    }
   ],
   "source": [
    "# I ran this code once and saved the results to the CSV station_latitude_longitude_df.csv\n",
    "\n",
    "'''# Getting the latitude for each bike station\n",
    "#lati = []\n",
    "\n",
    "#for i in the_station:\n",
    "   # lati.append(bike_data[bike_data['start station name'] == str(i)]['start station latitude'].value_counts().index[0])\n",
    "    \n",
    "\n",
    "# Getting the longitude for each bike station\n",
    "#longi = []\n",
    "\n",
    "#for i in the_station:\n",
    "    #longi.append(bike_data[bike_data['start station name'] == str(i)]['start station longitude'].value_counts().index[0])\n",
    "    \n",
    "    \n",
    "len(the_station) == len(lati) == len(longi)\n",
    "\n",
    "\n",
    "# Create a dataframe that includes the following columns: The station name, Latitude, Longitude\n",
    "station_latitude_longitude_df = pd.DataFrame({\"station\": the_station, \"latitude\": lati, \"longitude\": longi})\n",
    "station_latitude_longitude_df.shape\n",
    "\n",
    "\n",
    "# I am saving it to a csv file to be able to use it easily\n",
    "station_latitude_longitude_df.to_csv(\"station_latitude_longitude_df.csv\", index=False)\n",
    "station_latitude_longitude_df.head()'''"
   ]
  },
  {
   "cell_type": "code",
   "execution_count": 35,
   "metadata": {},
   "outputs": [
    {
     "data": {
      "text/html": [
       "<div>\n",
       "<style scoped>\n",
       "    .dataframe tbody tr th:only-of-type {\n",
       "        vertical-align: middle;\n",
       "    }\n",
       "\n",
       "    .dataframe tbody tr th {\n",
       "        vertical-align: top;\n",
       "    }\n",
       "\n",
       "    .dataframe thead th {\n",
       "        text-align: right;\n",
       "    }\n",
       "</style>\n",
       "<table border=\"1\" class=\"dataframe\">\n",
       "  <thead>\n",
       "    <tr style=\"text-align: right;\">\n",
       "      <th></th>\n",
       "      <th>station</th>\n",
       "      <th>latitude</th>\n",
       "      <th>longitude</th>\n",
       "    </tr>\n",
       "  </thead>\n",
       "  <tbody>\n",
       "    <tr>\n",
       "      <th>0</th>\n",
       "      <td>1 Ave &amp; E 110 St</td>\n",
       "      <td>40.792327</td>\n",
       "      <td>-73.938300</td>\n",
       "    </tr>\n",
       "    <tr>\n",
       "      <th>1</th>\n",
       "      <td>1 Ave &amp; E 16 St</td>\n",
       "      <td>40.732219</td>\n",
       "      <td>-73.981656</td>\n",
       "    </tr>\n",
       "    <tr>\n",
       "      <th>2</th>\n",
       "      <td>1 Ave &amp; E 18 St</td>\n",
       "      <td>40.733812</td>\n",
       "      <td>-73.980544</td>\n",
       "    </tr>\n",
       "    <tr>\n",
       "      <th>3</th>\n",
       "      <td>1 Ave &amp; E 30 St</td>\n",
       "      <td>40.741444</td>\n",
       "      <td>-73.975361</td>\n",
       "    </tr>\n",
       "    <tr>\n",
       "      <th>4</th>\n",
       "      <td>1 Ave &amp; E 39 St</td>\n",
       "      <td>40.747140</td>\n",
       "      <td>-73.971130</td>\n",
       "    </tr>\n",
       "  </tbody>\n",
       "</table>\n",
       "</div>"
      ],
      "text/plain": [
       "            station   latitude  longitude\n",
       "0  1 Ave & E 110 St  40.792327 -73.938300\n",
       "1   1 Ave & E 16 St  40.732219 -73.981656\n",
       "2   1 Ave & E 18 St  40.733812 -73.980544\n",
       "3   1 Ave & E 30 St  40.741444 -73.975361\n",
       "4   1 Ave & E 39 St  40.747140 -73.971130"
      ]
     },
     "execution_count": 35,
     "metadata": {},
     "output_type": "execute_result"
    }
   ],
   "source": [
    "station_latitude_longitude_df = pd.read_csv(\"station_latitude_longitude_df.csv\")\n",
    "station_latitude_longitude_df.head()"
   ]
  },
  {
   "cell_type": "code",
   "execution_count": null,
   "metadata": {},
   "outputs": [],
   "source": []
  },
  {
   "cell_type": "markdown",
   "metadata": {},
   "source": [
    "# What Bike Station are in proximity to the 5 subway stations"
   ]
  },
  {
   "cell_type": "markdown",
   "metadata": {},
   "source": [
    "### I'm using the haversine distance to find the distance between the subway station and each bike station"
   ]
  },
  {
   "cell_type": "code",
   "execution_count": 36,
   "metadata": {},
   "outputs": [
    {
     "data": {
      "text/html": [
       "<div>\n",
       "<style scoped>\n",
       "    .dataframe tbody tr th:only-of-type {\n",
       "        vertical-align: middle;\n",
       "    }\n",
       "\n",
       "    .dataframe tbody tr th {\n",
       "        vertical-align: top;\n",
       "    }\n",
       "\n",
       "    .dataframe thead th {\n",
       "        text-align: right;\n",
       "    }\n",
       "</style>\n",
       "<table border=\"1\" class=\"dataframe\">\n",
       "  <thead>\n",
       "    <tr style=\"text-align: right;\">\n",
       "      <th></th>\n",
       "      <th>STATION</th>\n",
       "      <th>LATITUDE</th>\n",
       "      <th>LONGITUDE</th>\n",
       "    </tr>\n",
       "  </thead>\n",
       "  <tbody>\n",
       "    <tr>\n",
       "      <th>0</th>\n",
       "      <td>42 ST-PORT AUTH</td>\n",
       "      <td>40.756903</td>\n",
       "      <td>-73.990437</td>\n",
       "    </tr>\n",
       "    <tr>\n",
       "      <th>1</th>\n",
       "      <td>23 ST</td>\n",
       "      <td>40.743069</td>\n",
       "      <td>-73.993064</td>\n",
       "    </tr>\n",
       "    <tr>\n",
       "      <th>2</th>\n",
       "      <td>125 ST</td>\n",
       "      <td>40.810992</td>\n",
       "      <td>-73.952646</td>\n",
       "    </tr>\n",
       "    <tr>\n",
       "      <th>3</th>\n",
       "      <td>CANAL ST</td>\n",
       "      <td>40.719555</td>\n",
       "      <td>-74.001789</td>\n",
       "    </tr>\n",
       "    <tr>\n",
       "      <th>4</th>\n",
       "      <td>34 ST-PENN STA</td>\n",
       "      <td>40.752508</td>\n",
       "      <td>-73.993382</td>\n",
       "    </tr>\n",
       "  </tbody>\n",
       "</table>\n",
       "</div>"
      ],
      "text/plain": [
       "           STATION   LATITUDE  LONGITUDE\n",
       "0  42 ST-PORT AUTH  40.756903 -73.990437\n",
       "1            23 ST  40.743069 -73.993064\n",
       "2           125 ST  40.810992 -73.952646\n",
       "3         CANAL ST  40.719555 -74.001789\n",
       "4   34 ST-PENN STA  40.752508 -73.993382"
      ]
     },
     "execution_count": 36,
     "metadata": {},
     "output_type": "execute_result"
    }
   ],
   "source": [
    "top_busiest_sub_stations.head()"
   ]
  },
  {
   "cell_type": "code",
   "execution_count": 37,
   "metadata": {},
   "outputs": [],
   "source": [
    "# the five busiest subway station with their latitude and longitude packed in tuples\n",
    "\n",
    "ST_PORT_42 = (40.75690276452623, -73.99043660221584)\n",
    "ST_23 = (40.74306879496494, -73.99306417338107)\n",
    "ST_125 = (40.810992, -73.952646)\n",
    "CANAL_ST = (40.71955456696046, -74.00178878605693)\n",
    "PENN_STA = (40.752508, -73.993382)"
   ]
  },
  {
   "cell_type": "code",
   "execution_count": 38,
   "metadata": {},
   "outputs": [
    {
     "name": "stdout",
     "output_type": "stream",
     "text": [
      "(40.7923272, -73.9383)\n",
      "(40.73221853, -73.98165557)\n",
      "(40.73381219196632, -73.9805442094803)\n",
      "(40.74144387, -73.97536082)\n",
      "(40.74714, -73.97113)\n",
      "(40.75001986, -73.96905301)\n",
      "(40.72633085971696, -73.98616880178452)\n",
      "(40.7612274, -73.96094022)\n",
      "(40.76500525, -73.95818491)\n",
      "(40.77140426, -73.9535166)\n",
      "(40.78172120000001, -73.94594000000002)\n",
      "(40.6809591, -73.99905709)\n",
      "(40.672784, -73.979826)\n",
      "(40.74198159994023, -74.00831580162048)\n",
      "(40.86128197075099, -73.92141759395601)\n",
      "(40.862638, -73.92005999999998)\n",
      "(40.864632, -73.918598)\n",
      "(40.86932465640094, -73.91519755125046)\n",
      "(40.75066386, -74.00176802)\n",
      "(40.671907, -73.993612)\n",
      "(40.6686273, -73.98700053)\n",
      "(40.6662078, -73.98199886)\n",
      "(40.65629000000001, -73.977335)\n",
      "(40.751396, -74.00522600000002)\n",
      "(40.76030096, -73.99884222)\n",
      "(40.771496710544405, -73.99046033620834)\n",
      "(40.7519071, -73.94791190000002)\n",
      "(40.643546, -73.986418)\n",
      "(40.818299, -73.96040500000002)\n",
      "(40.76087502, -74.00277668)\n",
      "(40.668603, -73.99043940000001)\n",
      "(40.666287, -73.98895053)\n",
      "(40.663779, -73.98396846)\n",
      "(40.666197, -73.99246600000002)\n",
      "(40.663493, -73.991007)\n",
      "(40.772768286288304, -73.9274364709854)\n",
      "(40.77745520000001, -73.9225403)\n",
      "(40.658489, -73.985543)\n",
      "(40.656326, -74.00962700000002)\n",
      "(40.659176, -74.006584)\n",
      "(40.65708866668485, -74.00870203971863)\n",
      "(40.7892105, -73.94370784)\n",
      "(40.8006721, -73.9349)\n",
      "(40.802554, -73.933509)\n",
      "(40.741723510974715, -73.97809267044067)\n",
      "(40.74290902, -73.97706058)\n",
      "(40.75792020879402, -73.96638214588165)\n",
      "(40.7687620293096, -73.95840793848038)\n",
      "(40.7839636, -73.94716729999998)\n",
      "(40.7862586, -73.94552579)\n",
      "(40.78400300000001, -73.912297)\n",
      "(40.779399, -73.90570799999998)\n",
      "(40.777112, -73.90238199999997)\n",
      "(40.775415, -73.900063)\n",
      "(40.772899, -73.896849)\n",
      "(40.785994, -73.915098)\n",
      "(40.770888, -73.889914)\n",
      "(40.780478, -73.912212)\n",
      "(40.783956, -73.916894)\n",
      "(40.782465, -73.914527)\n",
      "(40.778557, -73.919046)\n",
      "(40.7659, -73.930819)\n",
      "(40.7601853, -73.9362726)\n",
      "(40.7576314, -73.9391224)\n",
      "(40.662584, -73.995554)\n",
      "(40.75052534, -73.94594845)\n",
      "(40.774645, -73.92370600000002)\n",
      "(40.75325964, -73.94335788)\n",
      "(40.776165, -73.9153175)\n",
      "(40.77406014982225, -73.914934694767)\n",
      "(40.662611, -73.998623)\n",
      "(40.774591, -73.918544)\n",
      "(40.7729, -73.91614200000002)\n",
      "(40.756351, -73.936515)\n",
      "(40.752474, -73.939991)\n",
      "(40.659555, -73.995068)\n",
      "(40.767666, -73.910963)\n",
      "(40.77485, -73.9342)\n",
      "(40.7739825, -73.93091340000002)\n",
      "(40.7485, -73.941275)\n",
      "(40.7671, -73.9169858)\n",
      "(40.76408932350689, -73.9106512069702)\n",
      "(40.757186, -73.93271899999998)\n",
      "(40.751047, -73.93796999999998)\n",
      "(40.656986, -73.998194)\n",
      "(40.6685455, -73.99333264)\n",
      "(40.666168, -73.995549)\n",
      "(40.677027, -73.9865)\n",
      "(40.7877214, -73.94728331)\n",
      "(40.795508, -73.94160600000002)\n",
      "(40.823872, -73.908699)\n",
      "(40.832678, -73.905158)\n",
      "(40.834857, -73.903743)\n",
      "(40.839586, -73.900277)\n",
      "(40.84224, -73.8985)\n",
      "(40.76312584, -73.96526895)\n",
      "(40.76873687, -73.96119945)\n",
      "(40.7699426, -73.96060712)\n",
      "(40.82696, -73.907451)\n",
      "(40.68683208, -73.9796772)\n",
      "(40.638246, -74.024714)\n",
      "(40.6750705, -73.98775226)\n",
      "(40.67038370000001, -73.97839676)\n",
      "(40.6777287, -73.99364123)\n",
      "(40.668132, -73.97363831)\n",
      "(40.77037429999999, -73.9286078)\n",
      "(40.763422, -73.914142)\n",
      "(40.761294, -73.909562)\n",
      "(40.657743, -74.001141)\n",
      "(40.7682, -73.9322662)\n",
      "(40.7647, -73.9240312)\n",
      "(40.763154, -73.920827)\n",
      "(40.757357, -73.904726)\n",
      "(40.757525, -73.901614)\n",
      "(40.76583460000001, -73.9265474)\n",
      "(40.7611488, -73.9170071)\n",
      "(40.766824, -73.930486)\n",
      "(40.77813, -73.90841999999998)\n",
      "(40.7747878, -73.91255509999998)\n",
      "(40.76991760000001, -73.91840570000002)\n",
      "(40.761584, -73.925921)\n",
      "(40.776168, -73.910485)\n",
      "(40.7711528, -73.9170074)\n",
      "(40.7675487799971, -73.92093345522879)\n",
      "(40.75186951421875, -73.93349289894103)\n",
      "(40.74469738, -73.93540375)\n",
      "(40.7638753, -73.9364848)\n",
      "(40.7628138, -73.9342862)\n",
      "(40.759604471387945, -73.9271441102028)\n",
      "(40.756913, -73.921631)\n",
      "(40.754795, -73.917014)\n",
      "(40.75388, -73.914952)\n",
      "(40.75693320000001, -73.92622309999999)\n",
      "(40.752443, -73.929737)\n",
      "(40.655278, -74.003101)\n",
      "(40.654098, -74.001131)\n",
      "(40.76535380385866, -73.93986314535141)\n",
      "(40.763154819103725, -73.93985509872438)\n",
      "(40.7557327, -73.92366109999998)\n",
      "(40.776745, -73.90655799999998)\n",
      "(40.773015082913815, -73.9111903309822)\n",
      "(40.765475692449535, -73.91811579465866)\n",
      "(40.7580583, -73.92427509999997)\n",
      "(40.760339, -73.9222427)\n",
      "(40.7614376, -73.9411265)\n",
      "(40.75651272984955, -73.92957486212252)\n",
      "(40.655716, -74.006664)\n",
      "(40.654144, -74.00421999999998)\n",
      "(40.774306, -73.908335)\n",
      "(40.7531106, -73.9279917)\n",
      "(40.7701477, -73.9120938)\n",
      "(40.75473, -73.93366999999998)\n",
      "(40.764174520197685, -73.91583994030951)\n",
      "(40.752372, -73.925384)\n",
      "(40.65539977447831, -74.01062786579129)\n",
      "(40.665507, -73.993037)\n",
      "(40.660079, -73.998633)\n",
      "(40.673746, -73.985649)\n",
      "(40.6705135, -73.98876585)\n",
      "(40.732647, -73.99011)\n",
      "(40.637033, -74.022141)\n",
      "(40.75742, -73.945133)\n",
      "(40.7535992020056, -73.93795609474179)\n",
      "(40.652512, -74.00890600000002)\n",
      "(40.651354, -74.00716800000002)\n",
      "(40.753091, -73.920603)\n",
      "(40.654798, -74.014372)\n",
      "(40.769673, -73.906018)\n",
      "(40.754139, -73.919543)\n",
      "(40.750181, -73.91999799999998)\n",
      "(40.7577284, -73.9166368)\n",
      "(40.74800000000001, -73.94609270000002)\n",
      "(40.74718234, -73.9432635)\n",
      "(40.652502, -74.013587)\n",
      "(40.651173, -74.01140500000002)\n",
      "(40.647105, -74.004483)\n",
      "(40.688255165980046, -73.99545192718506)\n",
      "(40.74708586, -73.94977234)\n",
      "(40.649145, -74.009486)\n",
      "(40.74731, -73.95451)\n",
      "(40.765753, -73.90675999999998)\n",
      "(40.763328, -73.90878199999999)\n",
      "(40.76072, -73.910989)\n",
      "(40.645921, -74.005708)\n",
      "(40.644743, -74.003754)\n",
      "(40.743, -73.93561)\n",
      "(40.7437524099784, -73.94176483154297)\n",
      "(40.649143, -74.012384)\n",
      "(40.74128309355993, -73.93725872039794)\n",
      "(40.74436328706688, -73.95587325096129)\n",
      "(40.650176, -74.015606)\n",
      "(40.751555, -73.915026)\n",
      "(40.646351, -74.009271)\n",
      "(40.755763, -73.912715)\n",
      "(40.74252, -73.948852)\n",
      "(40.764496, -73.90463199999998)\n",
      "(40.758057, -73.90983100000003)\n",
      "(40.81548400000001, -73.935856)\n",
      "(40.67281550000001, -73.98352355)\n",
      "(40.652657, -74.002356)\n",
      "(40.649983, -74.005144)\n",
      "(40.635679, -74.020005)\n",
      "(40.7922553, -73.95249933)\n",
      "(40.812191, -73.937838)\n",
      "(40.7451677, -73.98683077)\n",
      "(40.766368, -73.971518)\n",
      "(40.77282817, -73.96685276)\n",
      "(40.77632142182271, -73.96427392959596)\n",
      "(40.78231448346993, -73.95980536937714)\n",
      "(40.78578510000001, -73.957481)\n",
      "(40.80722, -73.9418)\n",
      "(40.81014, -73.93973000000003)\n",
      "(40.7423737, -73.9566)\n",
      "(40.6704836, -73.98208968)\n",
      "(40.760083, -73.907107)\n",
      "(40.753441, -73.912402)\n",
      "(40.757764, -73.90765400000002)\n",
      "(40.757764, -73.90765400000002)\n",
      "(40.649292, -74.020105)\n",
      "(40.642703, -74.00944100000002)\n",
      "(40.64744, -74.018846)\n",
      "(40.644862, -74.014531)\n",
      "(40.643371, -74.011884)\n",
      "(40.642408, -74.013318)\n",
      "(40.639673, -74.008957)\n",
      "(40.646377, -74.023087)\n",
      "(40.642622, -74.01686600000002)\n",
      "(40.644512, -74.021506)\n",
      "(40.75574, -73.90342700000002)\n",
      "(40.641269, -74.017651)\n",
      "(40.640125, -74.015726)\n",
      "(40.66631810000001, -73.9854617)\n",
      "(40.66016, -73.990974)\n",
      "(40.640831, -74.01099599999998)\n",
      "(40.638196, -74.013821)\n",
      "(40.668127, -73.98377641)\n",
      "(40.72431, -74.00473000000002)\n",
      "(40.72243797, -74.00566443)\n",
      "(40.74901271, -73.98848395)\n",
      "(40.74964, -73.98805)\n",
      "(40.756951, -73.98263100000001)\n",
      "(40.66866270000001, -73.97988067)\n",
      "(40.639859, -74.01977600000002)\n",
      "(40.754176, -73.900318)\n",
      "(40.63766, -74.01782)\n",
      "(40.639978, -74.02324)\n",
      "(40.640493, -74.02564)\n",
      "(40.633385, -74.016562)\n",
      "(40.638799, -74.027472)\n",
      "(40.659053, -73.98854)\n",
      "(40.658029, -73.98960500000003)\n",
      "(40.648169, -74.000057)\n",
      "(40.647379, -74.000911)\n",
      "(40.7667405590595, -73.9790689945221)\n",
      "(40.67761470000001, -73.97324283)\n",
      "(40.67260298150126, -73.98983001708984)\n",
      "(40.67049220000001, -73.98541675)\n",
      "(40.77028, -73.893675)\n",
      "(40.740983, -74.00170200000002)\n",
      "(40.747968, -73.99663699999998)\n",
      "(40.7505853470215, -73.9946848154068)\n",
      "(40.751551, -73.993934)\n",
      "(40.75461, -73.99176999999997)\n",
      "(40.76171227910671, -73.98655101656914)\n",
      "(40.76370739, -73.9851615)\n",
      "(40.7725996921817, -73.93266275525094)\n",
      "(40.74317449, -74.00366443)\n",
      "(40.86308937813274, -73.9175833761692)\n",
      "(40.871094, -73.911503)\n",
      "(40.7454973, -74.00197139)\n",
      "(40.76019252, -73.9912551)\n",
      "(40.74966, -73.9521)\n",
      "(40.862562, -73.922661)\n",
      "(40.802535, -73.9532423)\n",
      "(40.804372, -73.951475)\n",
      "(40.8078316, -73.949373)\n",
      "(40.809495347779475, -73.94776493310928)\n",
      "(40.81234600000001, -73.946168)\n",
      "(40.813539, -73.94521)\n",
      "(40.81695971032464, -73.9422959089279)\n",
      "(40.819241, -73.941057)\n",
      "(40.825289, -73.93623199999998)\n",
      "(40.700763083261506, -73.98869812488556)\n",
      "(40.69308257, -73.97178913)\n",
      "(40.6800105, -73.938475)\n",
      "(40.709267, -74.01324699999998)\n",
      "(40.645074, -73.979681)\n",
      "(40.807466, -73.92710699999998)\n",
      "(40.71605866, -73.99190759)\n",
      "(40.72019576, -73.98997825)\n",
      "(40.722055, -73.989111)\n",
      "(40.80863217506367, -73.95958609887201)\n",
      "(40.813358, -73.956461)\n",
      "(40.816355, -73.954295)\n",
      "(40.819746, -73.951819)\n",
      "(40.829523, -73.94427900000002)\n",
      "(40.832081, -73.942386)\n",
      "(40.83618, -73.939789)\n",
      "(40.839443, -73.937044)\n",
      "(40.842173, -73.93511099999998)\n",
      "(40.844044, -73.933651)\n",
      "(40.847396, -73.931205)\n",
      "(40.84925, -73.93021999999998)\n",
      "(40.851113, -73.92880799999998)\n",
      "(40.853142, -73.927094)\n",
      "(40.7746671, -73.98470567)\n",
      "(40.779668090073116, -73.98093044757842)\n",
      "(40.7829391, -73.9786517)\n",
      "(40.78524672, -73.97667321)\n",
      "(40.832057, -73.927421)\n",
      "(40.85834000000001, -73.91008000000002)\n",
      "(40.855156, -73.91278)\n",
      "(40.846465, -73.903869)\n",
      "(40.848793, -73.903178)\n",
      "(40.8604787, -73.9057169936)\n",
      "(40.8649213, -73.90242380000002)\n",
      "(40.690065, -73.978776)\n",
      "(40.7767, -73.927631)\n",
      "(40.68382604, -73.97632328)\n",
      "(40.69165183, -73.99997859999998)\n",
      "(40.847305, -73.933291)\n",
      "(40.85715781391904, -73.92717361450195)\n",
      "(40.85564, -73.927128)\n",
      "(40.72368361, -73.97574813)\n",
      "(40.730563, -73.973984)\n",
      "(40.72506551015475, -73.97515833377837)\n",
      "(40.72082834, -73.97793172)\n",
      "(40.86571, -73.90857)\n",
      "(40.87069, -73.90678)\n",
      "(40.87002, -73.88565)\n",
      "(40.86389000000001, -73.89246)\n",
      "(40.86648, -73.89041999999998)\n",
      "(40.8684871, -73.8884559781)\n",
      "(40.6795766, -73.97854971)\n",
      "(40.73652889, -74.00618026)\n",
      "(40.7361967, -74.00859207)\n",
      "(40.72606, -73.95621)\n",
      "(40.71291224, -74.01020234)\n",
      "(40.73172428, -74.00674436)\n",
      "(40.816126, -73.891559)\n",
      "(40.671409, -74.001328)\n",
      "(40.71602118, -73.99974372)\n",
      "(40.71915571696044, -73.94885390996933)\n",
      "(40.70099, -73.93921)\n",
      "(40.815077, -73.899939)\n",
      "(40.676368, -73.95291800000003)\n",
      "(40.665816, -73.95693399999998)\n",
      "(40.72311651, -73.95212324)\n",
      "(40.70853074, -73.96408963)\n",
      "(40.87444, -73.89186)\n",
      "(40.817166, -73.914737)\n",
      "(40.68256425759694, -73.97989779710771)\n",
      "(40.680944723477296, -73.97567331790923)\n",
      "(40.6867443, -73.99063168)\n",
      "(40.6794388, -73.96804379999998)\n",
      "(40.6765304, -73.97846879)\n",
      "(40.675146838709786, -73.9752320945263)\n",
      "(40.7190095, -73.95852515)\n",
      "(40.71622644, -73.98261206)\n",
      "(40.726156049804075, -73.99510189890863)\n",
      "(40.688489, -73.99116)\n",
      "(40.68848905639242, -73.99116039276123)\n",
      "(40.70538077, -73.94976519)\n",
      "(40.6849668, -73.98620772)\n",
      "(40.68962188790333, -73.98304268717766)\n",
      "(40.832649, -73.885272)\n",
      "(40.828199, -73.903719)\n",
      "(40.833246, -73.896599)\n",
      "(40.86814, -73.88145)\n",
      "(40.825125, -73.941616)\n",
      "(40.70296934155272, -73.98469090461731)\n",
      "(40.70133448066992, -73.98471236228944)\n",
      "(40.70365182, -74.01167797)\n",
      "(40.7668, -73.93477740000002)\n",
      "(40.755389, -73.911517)\n",
      "(40.754164, -73.908906)\n",
      "(40.70463334, -74.01361706)\n",
      "(40.71044554, -73.96525063)\n",
      "(40.73454567, -73.99074142)\n",
      "(40.73988840858996, -73.98958593606949)\n",
      "(40.86205800000001, -73.92971899999998)\n",
      "(40.68139, -73.90756)\n",
      "(40.68663, -73.9168)\n",
      "(40.69329000000001, -73.92851999999998)\n",
      "(40.68822, -73.91966)\n",
      "(40.8143256, -73.9590255)\n",
      "(40.70924826276157, -73.96063148975372)\n",
      "(40.8120562, -73.9612547)\n",
      "(40.817555, -73.957163)\n",
      "(40.8190344, -73.95615600000002)\n",
      "(40.824686, -73.951947)\n",
      "(40.831327, -73.946665)\n",
      "(40.83299, -73.94592)\n",
      "(40.835775, -73.9434)\n",
      "(40.839137, -73.941409)\n",
      "(40.840896031930406, -73.93972098827362)\n",
      "(40.852538, -73.93441)\n",
      "(40.857994, -73.93217299999998)\n",
      "(40.872412, -73.912807)\n",
      "(40.74286877312112, -73.98918628692627)\n",
      "(40.7462009, -73.98855723)\n",
      "(40.75097711, -73.98765428)\n",
      "(40.75172632, -73.98753523)\n",
      "(40.7529728216068, -73.98734897375105)\n",
      "(40.75513557, -73.98658032)\n",
      "(40.76228826, -73.98336183)\n",
      "(40.7652654, -73.98192338)\n",
      "(40.76695317, -73.98169333)\n",
      "(40.7016657, -73.9437303)\n",
      "(40.80046, -73.92404)\n",
      "(40.807408, -73.91924)\n",
      "(40.809619, -73.917875)\n",
      "(40.814383, -73.915368)\n",
      "(40.820713, -73.911759)\n",
      "(40.698458, -73.997178)\n",
      "(40.821952, -73.88854599999998)\n",
      "(40.85834000000001, -73.90626)\n",
      "(40.762507, -73.902534)\n",
      "(40.701907, -74.013942)\n",
      "(40.69502, -73.92825)\n",
      "(40.70076, -73.93641)\n",
      "(40.68281, -73.90623000000002)\n",
      "(40.69356, -73.92524)\n",
      "(40.69146, -73.92146)\n",
      "(40.705517, -73.93936)\n",
      "(40.71247661, -73.94100005)\n",
      "(40.709897, -73.94008000000002)\n",
      "(40.6849894, -73.99440329)\n",
      "(40.848282, -73.941343)\n",
      "(40.69991755, -73.98971773)\n",
      "(40.69597683, -73.99014892)\n",
      "(40.72984, -73.94839)\n",
      "(40.68488, -73.96304)\n",
      "(40.71427487, -73.98990025)\n",
      "(40.68097410000001, -73.97100970000002)\n",
      "(40.697787, -73.973736)\n",
      "(40.69580705, -73.97355569)\n",
      "(40.73038599, -74.00214988)\n",
      "(40.6751622, -73.9814832)\n",
      "(40.6740886, -73.9787282)\n",
      "(40.6786115, -73.99037292)\n",
      "(40.6830456, -74.00348559)\n",
      "(40.6679411, -73.9588)\n",
      "(40.680611, -73.99475825)\n",
      "(40.6686744, -73.9618148)\n",
      "(40.804213, -73.96699104)\n",
      "(40.71117444, -73.99682619)\n",
      "(40.649681, -73.96782900000002)\n",
      "(40.648481, -73.97058)\n",
      "(40.647718, -73.973663)\n",
      "(40.81989, -73.908351)\n",
      "(40.82188, -73.907521)\n",
      "(40.86156, -73.91219)\n",
      "(40.69671, -73.92806999999998)\n",
      "(40.697842, -73.926241)\n",
      "(40.745038, -73.957539)\n",
      "(40.74336608027021, -73.95960688591003)\n",
      "(40.68929, -73.90951)\n",
      "(40.6882, -73.90798000000002)\n",
      "(40.702831, -73.9333)\n",
      "(40.69676, -73.92302)\n",
      "(40.70112, -73.93039)\n",
      "(40.700003, -73.92834)\n",
      "(40.69055, -73.91181)\n",
      "(40.69296, -73.91605)\n",
      "(40.799484, -73.955613)\n",
      "(40.76590936, -73.97634151)\n",
      "(40.795589541053424, -73.96188408136369)\n",
      "(40.78866499127884, -73.96680057048799)\n",
      "(40.79249519495111, -73.9641706646307)\n",
      "(40.7734066, -73.97782542)\n",
      "(40.77579376683666, -73.97620573639871)\n",
      "(40.77896784, -73.97374737)\n",
      "(40.78476, -73.969862)\n",
      "(40.71273266, -74.0046073)\n",
      "(40.69969, -73.9022)\n",
      "(40.71494807, -74.00234482)\n",
      "(40.8358771, -73.89314279999998)\n",
      "(40.71219906, -73.97948148)\n",
      "(40.644367, -73.984276)\n",
      "(40.73291553, -74.00711384)\n",
      "(40.642809, -73.979239)\n",
      "(40.642031, -73.981073)\n",
      "(40.69760127, -73.99344559)\n",
      "(40.6765198, -73.9596082)\n",
      "(40.83999, -73.90549)\n",
      "(40.84326400000001, -73.90486700000002)\n",
      "(40.68764484, -73.96968902)\n",
      "(40.69573398, -73.97129668)\n",
      "(40.72210378668603, -73.99724900722505)\n",
      "(40.70838, -74.00495)\n",
      "(40.69794, -73.96986848)\n",
      "(40.693261, -73.968896)\n",
      "(40.711471, -73.986726)\n",
      "(40.6783563, -74.00014502)\n",
      "(40.67434, -74.00194698)\n",
      "(40.71559509, -73.9870295)\n",
      "(40.69239502, -73.99337909)\n",
      "(40.696232971293156, -73.99142056703569)\n",
      "(40.6831164, -73.99785267)\n",
      "(40.711471394469264, -73.98672603070736)\n",
      "(40.677236, -74.015665)\n",
      "(40.837576, -73.910489)\n",
      "(40.70037867, -73.99548059)\n",
      "(40.6859296, -74.00242364)\n",
      "(40.68763155, -74.0016256)\n",
      "(40.6747055, -74.00755720000002)\n",
      "(40.71739973, -73.98016555)\n",
      "(40.6769993, -74.00647134)\n",
      "(40.7969347, -73.9643412291)\n",
      "(40.7770575, -73.97898475)\n",
      "(40.7919557, -73.968087)\n",
      "(40.68121170000001, -74.00860912)\n",
      "(40.69766564, -73.98476437)\n",
      "(40.823732, -73.919379)\n",
      "(40.823162, -73.92326700000002)\n",
      "(40.688255165980046, -73.99545192718506)\n",
      "(40.68939520000001, -73.99951259999997)\n",
      "(40.818215, -73.950988)\n",
      "(40.82831, -73.942924)\n",
      "(40.729514962249496, -73.99075269699097)\n",
      "(40.6763947, -73.99869893)\n",
      "(40.6902375, -73.99203074)\n",
      "(40.816402, -73.919549)\n",
      "(40.822267, -73.916792)\n",
      "(40.768692, -73.9249574)\n",
      "(40.76108, -73.930562)\n",
      "(40.7596276, -73.93214549999998)\n",
      "(40.7633589, -73.92864709999998)\n",
      "(40.7787185, -73.9145645)\n",
      "(40.850885, -73.906469)\n",
      "(40.8549, -73.90281)\n",
      "(40.837037, -73.890413)\n",
      "(40.841092, -73.892317)\n",
      "(40.68753406, -73.97265183)\n",
      "(40.69812, -73.90271)\n",
      "(40.70157340873792, -73.90876293182373)\n",
      "(40.646037, -73.980963)\n",
      "(40.85364600000001, -73.908731)\n",
      "(40.819999, -73.897263)\n",
      "(40.69064807082943, -73.95746178925037)\n",
      "(40.689888, -73.981013)\n",
      "(40.68981035, -73.97493121)\n",
      "(40.68940747, -73.96885458)\n",
      "(40.67759206937376, -73.95563721656801)\n",
      "(40.6864442, -73.98759104)\n",
      "(40.86813, -73.88412)\n",
      "(40.86557, -73.88807)\n",
      "(40.867, -73.88577640000003)\n",
      "(40.68199044270703, -73.99079024791719)\n",
      "(40.6829151, -73.99318208)\n",
      "(40.719383, -73.991479)\n",
      "(40.71335226222875, -73.9491033554077)\n",
      "(40.713811, -73.93515)\n",
      "(40.771203, -73.903865)\n",
      "(40.78145, -73.9183302)\n",
      "(40.771203, -73.903865)\n",
      "(40.769219, -73.90100100000002)\n",
      "(40.76817, -73.896293)\n",
      "(40.768442, -73.89353100000002)\n",
      "(40.768728, -73.890745)\n",
      "(40.70684203101325, -73.9544353965357)\n",
      "(40.70708701, -73.95796783)\n",
      "(40.714193, -73.996732)\n",
      "(40.69985, -73.97140999999998)\n",
      "(40.70270900000001, -73.99253)\n",
      "(40.6802133, -73.98432695)\n",
      "(40.67927879999999, -73.98154004)\n",
      "(40.72179134, -73.95041540000003)\n",
      "(40.71816969454208, -73.95520135760306)\n",
      "(40.72325, -73.94308000000002)\n",
      "(40.71748752, -74.0104554)\n",
      "(40.69221589, -73.9842844)\n",
      "(40.67363551341504, -74.01195555925368)\n",
      "(40.858904475384115, -73.9230939745903)\n",
      "(40.867357, -73.92936)\n",
      "(40.86884600000001, -73.931537)\n",
      "(40.72335597960796, -73.9886498451233)\n",
      "(40.72740794, -73.98142006)\n",
      "(40.7869946, -73.94164802)\n",
      "(40.7904828, -73.95033068)\n",
      "(40.79030510000001, -73.94755757)\n",
      "(40.7892529, -73.93956237)\n",
      "(40.791976, -73.945993)\n",
      "(40.79343370000001, -73.94945003)\n",
      "(40.79329668, -73.9432083)\n",
      "(40.72953837, -73.98426726)\n",
      "(40.73127, -73.98849)\n",
      "(40.727464206923926, -73.97950418293476)\n",
      "(40.7961535, -73.94782145)\n",
      "(40.79456629999999, -73.9362541)\n",
      "(40.797911, -73.9423)\n",
      "(40.7989445, -73.944846)\n",
      "(40.796879, -73.93726099999998)\n",
      "(40.79747, -73.93504)\n",
      "(40.799139, -73.9389152)\n",
      "(40.8014866, -73.9442507)\n",
      "(40.8005385, -73.9419949)\n",
      "(40.73223272, -73.98889957)\n",
      "(40.727243, -73.976831)\n",
      "(40.8029263, -73.9379)\n",
      "(40.805631, -73.934077)\n",
      "(40.80756, -73.93918199999997)\n",
      "(40.731539374640725, -73.9853024482727)\n",
      "(40.72966729392978, -73.98067966103555)\n",
      "(40.810224, -73.93719499999997)\n",
      "(40.80262000000001, -73.9174)\n",
      "(40.800425, -73.911034)\n",
      "(40.805089, -73.91888900000002)\n",
      "(40.81449, -73.936153)\n",
      "(40.812304, -73.929153)\n",
      "(40.805559, -73.91471800000002)\n",
      "(40.813224, -73.930605)\n",
      "(40.804168, -73.91154499999998)\n",
      "(40.72938685, -73.97772429)\n",
      "(40.806896, -73.911837)\n",
      "(40.808633, -73.916124)\n",
      "(40.812735, -73.923697)\n",
      "(40.811675, -73.917037)\n",
      "(40.814673, -73.91839)\n",
      "(40.81404600000001, -73.91186)\n",
      "(40.813135, -73.909235)\n",
      "(40.81734, -73.922962)\n",
      "(40.818154, -73.925294)\n",
      "(40.734232, -73.986923)\n",
      "(40.820089, -73.928947)\n",
      "(40.826677, -73.929327)\n",
      "(40.82057, -73.917579)\n",
      "(40.819823, -73.91241099999998)\n",
      "(40.825737, -73.927311)\n",
      "(40.822215, -73.914688)\n",
      "(40.73726186, -73.99238967)\n",
      "(40.735367055605394, -73.98797392845155)\n",
      "(40.82030200000001, -73.903944)\n",
      "(40.824811, -73.91640699999998)\n",
      "(40.827883, -73.927111)\n",
      "(40.821075, -73.89506899999998)\n",
      "(40.822545, -73.901824)\n",
      "(40.82809, -73.91288)\n",
      "(40.82394, -73.894025)\n",
      "(40.83263, -73.925101)\n",
      "(40.826706, -73.888719)\n",
      "(40.83094000000001, -73.91125)\n",
      "(40.82895, -73.90521)\n",
      "(40.827184, -73.893721)\n",
      "(40.834015, -73.908863)\n",
      "(40.73704984, -73.99009296)\n",
      "(40.837213, -73.908345)\n",
      "(40.838315, -73.912604)\n",
      "(40.83617913677475, -73.90730146322765)\n",
      "(40.837119, -73.902185)\n",
      "(40.838379, -73.905838)\n",
      "(40.836274, -73.88430799999998)\n",
      "(40.844811, -73.912042)\n",
      "(40.861669, -73.898589)\n",
      "(40.73624527, -73.98473765)\n",
      "(40.72502876, -73.99069656)\n",
      "(40.72307749068673, -73.98583620786667)\n",
      "(40.72217444, -73.98368779)\n",
      "(40.7208736, -73.98085795)\n",
      "(40.73587678, -73.98205027)\n",
      "(40.73314259, -73.97573881)\n",
      "(40.73827428, -73.98751968)\n",
      "(40.87207, -73.88459)\n",
      "(40.736502, -73.97809472)\n",
      "(40.7381765, -73.97738662)\n",
      "(40.73912601, -73.97973776)\n",
      "(40.739445, -73.97680600000002)\n",
      "(40.74275179648996, -73.98471571505071)\n",
      "(40.72467721, -73.98783413)\n",
      "(40.643817, -73.97743299999998)\n",
      "(40.74444921, -73.98303529)\n",
      "(40.74394314, -73.97966069)\n",
      "(40.74571210000001, -73.98194829)\n",
      "(40.74322681432173, -73.97449783980845)\n",
      "(40.74765947, -73.98490707)\n",
      "(40.74803319428767, -73.97382795810701)\n",
      "(40.74949854602521, -73.97729203113158)\n",
      "(40.7262807, -73.98978041)\n",
      "(40.752062306999996, -73.9816324043)\n",
      "(40.752165280621966, -73.97992193698882)\n",
      "(40.75022392, -73.97121414)\n",
      "(40.75118387463277, -73.97138714790343)\n",
      "(40.752643, -73.97499599999998)\n",
      "(40.75255434, -73.97282625)\n",
      "(40.75206862, -73.96784384)\n",
      "(40.75323098, -73.97032517)\n",
      "(40.75510267, -73.97498696)\n",
      "(40.7546011026, -73.971878855)\n"
     ]
    },
    {
     "name": "stdout",
     "output_type": "stream",
     "text": [
      "(40.75724567911726, -73.97805914282799)\n",
      "(40.72299208, -73.97995466)\n",
      "(40.72769, -73.990993)\n",
      "(40.757334, -73.974235)\n",
      "(40.75455731, -73.96592976)\n",
      "(40.755293, -73.967641)\n",
      "(40.75714758, -73.97207836)\n",
      "(40.75828065, -73.97069431)\n",
      "(40.75971079999999, -73.97402311)\n",
      "(40.756265, -73.964179)\n",
      "(40.75797322, -73.96603308)\n",
      "(40.75934501, -73.96759673)\n",
      "(40.761573, -73.972628)\n",
      "(40.759125, -73.96265799999998)\n",
      "(40.75892386377695, -73.96226227283478)\n",
      "(40.759125, -73.96265799999998)\n",
      "(40.76095756, -73.96724467)\n",
      "(40.763025942805186, -73.97209525108337)\n",
      "(40.76350532, -73.97109243)\n",
      "(40.72453734, -73.98185424)\n",
      "(40.72228087, -73.97668709)\n",
      "(40.759107, -73.959223)\n",
      "(40.763954, -73.9646)\n",
      "(40.76471851944339, -73.96222069859505)\n",
      "(40.768008893059466, -73.96845281124116)\n",
      "(40.76780080148132, -73.96592080593109)\n",
      "(40.76712840349542, -73.96224617958069)\n",
      "(40.7691572, -73.96703464)\n",
      "(40.72621788, -73.98379855)\n",
      "(40.77118287540658, -73.96409422159195)\n",
      "(40.76663814, -73.95348296)\n",
      "(40.7689738, -73.95482273)\n",
      "(40.77112927, -73.95772297)\n",
      "(40.773763, -73.96222088)\n",
      "(40.77314236, -73.95856158)\n",
      "(40.7727966, -73.95577801)\n",
      "(40.648055, -73.972432)\n",
      "(40.77477944895728, -73.95427465438844)\n",
      "(40.77573034, -73.9567526)\n",
      "(40.77677702, -73.95900970000002)\n",
      "(40.7728384, -73.94989233)\n",
      "(40.7724607, -73.9468208)\n",
      "(40.77565541, -73.95068615)\n",
      "(40.77862688, -73.95772073)\n",
      "(40.77801203, -73.95407149)\n",
      "(40.77536905, -73.94803392)\n",
      "(40.778301, -73.9488134)\n",
      "(40.781410700190015, -73.95595908164978)\n",
      "(40.7806284, -73.9521667)\n",
      "(40.7779453, -73.94604100000002)\n",
      "(40.732758870450866, -73.99581670761107)\n",
      "(40.72521311, -73.97768752)\n",
      "(40.781152764279156, -73.94963040947914)\n",
      "(40.7835016, -73.955327)\n",
      "(40.78245417527987, -73.94891962409021)\n",
      "(40.7849032, -73.950503)\n",
      "(40.7859201, -73.94860294)\n",
      "(40.787801, -73.953559)\n",
      "(40.78813, -73.95206)\n",
      "(40.850535, -73.901318)\n",
      "(40.861748, -73.89105)\n",
      "(40.8740704, -73.88336509310001)\n",
      "(40.87656, -73.88365999999998)\n",
      "(40.847798, -73.901883)\n",
      "(40.851747, -73.908964)\n",
      "(40.77518615, -73.94446054)\n",
      "(40.67077670000001, -73.9576801)\n",
      "(40.6716493, -73.9631145)\n",
      "(40.820681, -73.945144)\n",
      "(40.823498, -73.94386)\n",
      "(40.826881, -73.941427)\n",
      "(40.838191, -73.93608499999998)\n",
      "(40.68652, -73.91320999999998)\n",
      "(40.69363137, -73.96223558)\n",
      "(40.72158, -73.94546)\n",
      "(40.70106, -73.93318000000002)\n",
      "(40.744219, -73.97121214)\n",
      "(40.82057800000001, -73.888271)\n",
      "(40.70694, -73.90632)\n",
      "(40.845505, -73.914311)\n",
      "(40.846011, -73.919637)\n",
      "(40.69795031569544, -73.97077560424805)\n",
      "(40.71246, -73.91873000000002)\n",
      "(40.853929, -73.898385)\n",
      "(40.69922, -73.89795)\n",
      "(40.717798, -73.993161)\n",
      "(40.71893904, -73.99266288)\n",
      "(40.71581550000001, -73.99422366)\n",
      "(40.71779817737835, -73.99316132068634)\n",
      "(40.84522, -73.940493)\n",
      "(40.852252, -73.937854)\n",
      "(40.83171, -73.90208)\n",
      "(40.694546087246025, -73.95801365375519)\n",
      "(40.6758324, -73.95616770000002)\n",
      "(40.73564, -73.95866)\n",
      "(40.71911552, -74.00666661)\n",
      "(40.830702, -73.936371)\n",
      "(40.801694, -73.957145)\n",
      "(40.8038654, -73.95593079999998)\n",
      "(40.805159, -73.95469200000002)\n",
      "(40.8125511, -73.9492286)\n",
      "(40.81900581806558, -73.94476890563966)\n",
      "(40.823061, -73.941928)\n",
      "(40.830529, -73.894717)\n",
      "(40.830051, -73.892103)\n",
      "(40.70224, -73.982578)\n",
      "(40.702461, -73.98684200000002)\n",
      "(40.70255088, -73.98940236)\n",
      "(40.71882, -73.93948)\n",
      "(40.71766197083994, -73.94880026578903)\n",
      "(40.648005, -73.979342)\n",
      "(40.649037, -73.97673)\n",
      "(40.856906, -73.935662)\n",
      "(40.830471, -73.904556)\n",
      "(40.839229, -73.899047)\n",
      "(40.83545, -73.90153000000002)\n",
      "(40.692418292578466, -73.98949474096298)\n",
      "(40.711066, -74.009447)\n",
      "(40.684157, -73.969222)\n",
      "(40.68186, -73.95943199999998)\n",
      "(40.70772198491691, -74.00438636541368)\n",
      "(40.6794268, -73.92989109999998)\n",
      "(40.68323865460341, -73.96599590778352)\n",
      "(40.70960089363537, -74.00655090808868)\n",
      "(40.73944820130404, -74.00507032871245)\n",
      "(40.6711978, -73.97484126)\n",
      "(40.818743, -73.890247)\n",
      "(40.702997, -73.92997)\n",
      "(40.817755, -73.92965)\n",
      "(40.830262, -73.92339100000002)\n",
      "(40.83173, -73.922394)\n",
      "(40.83390900000001, -73.92112)\n",
      "(40.844075, -73.91725600000002)\n",
      "(40.87387, -73.89533)\n",
      "(40.87156, -73.89714000000002)\n",
      "(40.87812, -73.89192)\n",
      "(40.715143, -73.944507)\n",
      "(40.711863, -73.944024)\n",
      "(40.71929301, -73.94500379)\n",
      "(40.7169811, -73.94485918)\n",
      "(40.7643971, -73.97371465)\n",
      "(40.6729679, -73.97087984)\n",
      "(40.678045, -73.962408)\n",
      "(40.856302, -73.907302)\n",
      "(40.86288, -73.90316)\n",
      "(40.81687039466032, -73.92798498272894)\n",
      "(40.816576, -73.927987)\n",
      "(40.823429, -73.924689)\n",
      "(40.827133804235565, -73.9227358996868)\n",
      "(40.829608, -73.921461)\n",
      "(40.83196, -73.91956)\n",
      "(40.834263, -73.917641)\n",
      "(40.839549, -73.913004)\n",
      "(40.846221, -73.90923199999997)\n",
      "(40.86448, -73.89522)\n",
      "(40.86767, -73.89286)\n",
      "(40.86945, -73.89148)\n",
      "(40.87142, -73.88839)\n",
      "(40.87382, -73.88661)\n",
      "(40.875531, -73.8863864831)\n",
      "(40.877964, -73.88475502909999)\n",
      "(40.84301, -73.91171999999997)\n",
      "(40.718822, -73.99596)\n",
      "(40.72170005235607, -74.00238141417502)\n",
      "(40.71286844, -73.95698119)\n",
      "(40.71511871996496, -73.98417055606842)\n",
      "(40.83579, -73.913741)\n",
      "(40.72743423, -73.99379025)\n",
      "(40.73396, -73.95204)\n",
      "(40.698568, -73.918877)\n",
      "(40.709697, -73.90785600000002)\n",
      "(40.68833370000001, -73.950916)\n",
      "(40.6894932, -73.942061)\n",
      "(40.73026, -73.95394)\n",
      "(40.7390169121, -74.0026376103)\n",
      "(40.735238, -74.000271)\n",
      "(40.721319, -74.010065)\n",
      "(40.73498, -74.00697)\n",
      "(40.728846, -74.00859100000002)\n",
      "(40.650739, -73.977739)\n",
      "(40.69047, -73.923511)\n",
      "(40.68565, -73.91564)\n",
      "(40.68858, -73.91226999999998)\n",
      "(40.68236870000001, -73.944118)\n",
      "(40.821728, -73.952761)\n",
      "(40.822756, -73.951346)\n",
      "(40.68216564, -73.95399026)\n",
      "(40.6972, -73.90674)\n",
      "(40.68506807308177, -73.97790759801863)\n",
      "(40.830476, -73.939929)\n",
      "(40.70577, -73.91292)\n",
      "(40.70686, -73.92851)\n",
      "(40.71870987, -74.0090009)\n",
      "(40.704876, -73.919911)\n",
      "(40.772092, -73.895166)\n",
      "(40.69089272, -73.99612349)\n",
      "(40.6725058, -74.00494695)\n",
      "(40.6847514, -73.99917254)\n",
      "(40.714211, -73.981095)\n",
      "(40.7003, -73.99158100000002)\n",
      "(40.69400964865994, -73.99465128779411)\n",
      "(40.6763744, -74.00324957)\n",
      "(40.69512845, -73.99595065)\n",
      "(40.832171, -73.889686)\n",
      "(40.827629, -73.886659)\n",
      "(40.71167351, -73.95141312)\n",
      "(40.71910537, -73.99973337)\n",
      "(40.6843549, -73.98901629)\n"
     ]
    }
   ],
   "source": [
    "# creating a list of tuples containing each bike's station coordinates\n",
    "list_of_tuples = []\n",
    "\n",
    "for i in range(897):\n",
    "    print(f\"({station_latitude_longitude_df['latitude'][i]}, {station_latitude_longitude_df['longitude'][i]})\")\n",
    "    list_of_tuples.append(f\"({station_latitude_longitude_df['latitude'][i]}, {station_latitude_longitude_df['longitude'][i]})\")\n",
    "\n",
    "list_of_tuples = [eval(i) for i in list_of_tuples]"
   ]
  },
  {
   "cell_type": "code",
   "execution_count": null,
   "metadata": {},
   "outputs": [],
   "source": []
  },
  {
   "cell_type": "markdown",
   "metadata": {},
   "source": [
    "### Now that I have the subway stations coordinates as well as the bike's station coordinates, I will use haversine\n",
    "### to find the bike stations that are less than 0.4 km away from the subway station"
   ]
  },
  {
   "cell_type": "code",
   "execution_count": 39,
   "metadata": {},
   "outputs": [],
   "source": [
    "from haversine import haversine, Unit"
   ]
  },
  {
   "cell_type": "code",
   "execution_count": 40,
   "metadata": {},
   "outputs": [
    {
     "data": {
      "text/html": [
       "<div>\n",
       "<style scoped>\n",
       "    .dataframe tbody tr th:only-of-type {\n",
       "        vertical-align: middle;\n",
       "    }\n",
       "\n",
       "    .dataframe tbody tr th {\n",
       "        vertical-align: top;\n",
       "    }\n",
       "\n",
       "    .dataframe thead th {\n",
       "        text-align: right;\n",
       "    }\n",
       "</style>\n",
       "<table border=\"1\" class=\"dataframe\">\n",
       "  <thead>\n",
       "    <tr style=\"text-align: right;\">\n",
       "      <th></th>\n",
       "      <th>STATION</th>\n",
       "      <th>LATITUDE</th>\n",
       "      <th>LONGITUDE</th>\n",
       "    </tr>\n",
       "  </thead>\n",
       "  <tbody>\n",
       "    <tr>\n",
       "      <th>0</th>\n",
       "      <td>42 ST-PORT AUTH</td>\n",
       "      <td>40.756903</td>\n",
       "      <td>-73.990437</td>\n",
       "    </tr>\n",
       "    <tr>\n",
       "      <th>1</th>\n",
       "      <td>23 ST</td>\n",
       "      <td>40.743069</td>\n",
       "      <td>-73.993064</td>\n",
       "    </tr>\n",
       "    <tr>\n",
       "      <th>2</th>\n",
       "      <td>125 ST</td>\n",
       "      <td>40.810992</td>\n",
       "      <td>-73.952646</td>\n",
       "    </tr>\n",
       "    <tr>\n",
       "      <th>3</th>\n",
       "      <td>CANAL ST</td>\n",
       "      <td>40.719555</td>\n",
       "      <td>-74.001789</td>\n",
       "    </tr>\n",
       "    <tr>\n",
       "      <th>4</th>\n",
       "      <td>34 ST-PENN STA</td>\n",
       "      <td>40.752508</td>\n",
       "      <td>-73.993382</td>\n",
       "    </tr>\n",
       "  </tbody>\n",
       "</table>\n",
       "</div>"
      ],
      "text/plain": [
       "           STATION   LATITUDE  LONGITUDE\n",
       "0  42 ST-PORT AUTH  40.756903 -73.990437\n",
       "1            23 ST  40.743069 -73.993064\n",
       "2           125 ST  40.810992 -73.952646\n",
       "3         CANAL ST  40.719555 -74.001789\n",
       "4   34 ST-PENN STA  40.752508 -73.993382"
      ]
     },
     "execution_count": 40,
     "metadata": {},
     "output_type": "execute_result"
    }
   ],
   "source": [
    "top_busiest_sub_stations.head()"
   ]
  },
  {
   "cell_type": "code",
   "execution_count": null,
   "metadata": {},
   "outputs": [],
   "source": []
  },
  {
   "cell_type": "markdown",
   "metadata": {},
   "source": [
    "## Time in which the bike stations in proximity to 42 ST-PORT AUTH started the most rides\n",
    "## Keeping in mind that the time in which more exits were recorded at 42 ST-PORT AUTH was between 4:00 and 8:00 pm"
   ]
  },
  {
   "cell_type": "code",
   "execution_count": 41,
   "metadata": {},
   "outputs": [
    {
     "name": "stdout",
     "output_type": "stream",
     "text": [
      "0.2785867563255566 (40.75461, -73.99176999999997)\n",
      "0.3722440809479019 (40.76019252, -73.9912551)\n",
      "0.37962850546765503 (40.75513557, -73.98658032)\n"
     ]
    }
   ],
   "source": [
    "# One bike station is very close to the ST_PORT_42 subway station\n",
    "for i in list_of_tuples:\n",
    "    if haversine(ST_PORT_42, i) < 0.4:\n",
    "        print(haversine(ST_PORT_42, i), i)"
   ]
  },
  {
   "cell_type": "code",
   "execution_count": 42,
   "metadata": {},
   "outputs": [
    {
     "name": "stdout",
     "output_type": "stream",
     "text": [
      "262    8 Ave & W 38 St\n",
      "Name: station, dtype: object\n",
      "270    9 Ave & W 45 St\n",
      "Name: station, dtype: object\n",
      "404    Broadway & W 41 St\n",
      "Name: station, dtype: object\n"
     ]
    }
   ],
   "source": [
    "# Finding the name of the three bike stations close to ST_PORT_42\n",
    "# finding the station names by the given coordinates\n",
    "\n",
    "bike_stations_near_ST_PORT_42 = [40.75461, 40.76019252, 40.75513557]\n",
    "\n",
    "for i in bike_stations_near_ST_PORT_42:\n",
    "    print(station_latitude_longitude_df[station_latitude_longitude_df['latitude'] == i].station)"
   ]
  },
  {
   "cell_type": "code",
   "execution_count": 43,
   "metadata": {},
   "outputs": [],
   "source": [
    "# creating a column that contains the hour in which a person starts a ride, only the hour\n",
    "bike_data.starttime = pd.to_datetime(bike_data.starttime)\n",
    "bike_data['exact_start_time'] = bike_data.starttime.dt.hour"
   ]
  },
  {
   "cell_type": "markdown",
   "metadata": {},
   "source": []
  },
  {
   "cell_type": "code",
   "execution_count": 53,
   "metadata": {},
   "outputs": [
    {
     "data": {
      "text/plain": [
       "0.3556053811659193"
      ]
     },
     "execution_count": 53,
     "metadata": {},
     "output_type": "execute_result"
    }
   ],
   "source": [
    "# 8 Ave & W 38 St - 35% of rides where started at the time in which the 42 ST-PORT AUTH subway reported more exits\n",
    "ave_8 = bike_data[bike_data['start station name'] == '8 Ave & W 38 St']\n",
    "ave_8.exact_start_time.value_counts().head()\n",
    "\n",
    "percentage_of_rides_started_rush_hour = ave_8[(ave_8.exact_start_time == 16) | (ave_8.exact_start_time == 17) | (ave_8.exact_start_time == 18) |\n",
    "                                        (ave_8.exact_start_time == 19) | (ave_8.exact_start_time == 20)].exact_start_time.value_counts().sum() / ave_8.exact_start_time.value_counts().sum()\n",
    "\n",
    "percentage_of_rides_started_rush_hour"
   ]
  },
  {
   "cell_type": "code",
   "execution_count": 54,
   "metadata": {},
   "outputs": [
    {
     "data": {
      "text/plain": [
       "0.3879034872412356"
      ]
     },
     "execution_count": 54,
     "metadata": {},
     "output_type": "execute_result"
    }
   ],
   "source": [
    "# 9 Ave & W 45 St - 38% of rides where started at the time in which the 42 ST-PORT AUTH subway reported more exits\n",
    "ave_9 = bike_data[bike_data['start station name'] == '9 Ave & W 45 St']\n",
    "percentage_of_rides_started_rush_hour = ave_9[(ave_9.exact_start_time == 16) | (ave_9.exact_start_time == 17) | (ave_9.exact_start_time == 18) |\n",
    "                                        (ave_9.exact_start_time == 19) | (ave_9.exact_start_time == 20)].exact_start_time.value_counts().sum() / ave_9.exact_start_time.value_counts().sum()\n",
    "\n",
    "percentage_of_rides_started_rush_hour"
   ]
  },
  {
   "cell_type": "code",
   "execution_count": 55,
   "metadata": {},
   "outputs": [
    {
     "data": {
      "text/plain": [
       "0.32113706726709823"
      ]
     },
     "execution_count": 55,
     "metadata": {},
     "output_type": "execute_result"
    }
   ],
   "source": [
    "# Broadway & W 41 St - 32% of rides where started at the time in which the 42 ST-PORT AUTH subway reported more exits\n",
    "broad = bike_data[bike_data['start station name'] == 'Broadway & W 41 St']\n",
    "\n",
    "\n",
    "percentage_of_rides_started_rush_hour = broad[(broad.exact_start_time == 16) | (broad.exact_start_time == 17) | (broad.exact_start_time == 18) |\n",
    "                                        (broad.exact_start_time == 19) | (broad.exact_start_time == 20)].exact_start_time.value_counts().sum() / broad.exact_start_time.value_counts().sum()\n",
    "\n",
    "percentage_of_rides_started_rush_hour"
   ]
  },
  {
   "cell_type": "code",
   "execution_count": null,
   "metadata": {},
   "outputs": [],
   "source": []
  },
  {
   "cell_type": "markdown",
   "metadata": {},
   "source": [
    "## Time in which the bike stations in proximity to 23 ST started the most rides\n",
    "## Keeping in mind that the time in which more exits were recorded at 23 ST was between 8:00am and 12:00 pm"
   ]
  },
  {
   "cell_type": "code",
   "execution_count": 42,
   "metadata": {},
   "outputs": [
    {
     "name": "stdout",
     "output_type": "stream",
     "text": [
      "0.32745421458070834 (40.74286877312112, -73.98918628692627)\n"
     ]
    }
   ],
   "source": [
    "# one bike station is very close to the ST_23 subway station\n",
    "for i in list_of_tuples:\n",
    "    if haversine(ST_23, i) < 0.4:\n",
    "        print(haversine(ST_23, i), i)"
   ]
  },
  {
   "cell_type": "code",
   "execution_count": 43,
   "metadata": {},
   "outputs": [
    {
     "name": "stdout",
     "output_type": "stream",
     "text": [
      "399    Broadway & W 25 St\n",
      "Name: station, dtype: object\n"
     ]
    }
   ],
   "source": [
    "# Finding the name of the bike station close to ST_23\n",
    "# finding the station names by the given coordinates\n",
    "\n",
    "bike_stations_near_ST_23 = [40.74286877312112]\n",
    "\n",
    "for i in bike_stations_near_ST_23:\n",
    "    print(station_latitude_longitude_df[station_latitude_longitude_df['latitude'] == i].station)"
   ]
  },
  {
   "cell_type": "markdown",
   "metadata": {},
   "source": []
  },
  {
   "cell_type": "code",
   "execution_count": 61,
   "metadata": {},
   "outputs": [
    {
     "data": {
      "text/plain": [
       "0.23496480239454576"
      ]
     },
     "execution_count": 61,
     "metadata": {},
     "output_type": "execute_result"
    }
   ],
   "source": [
    "# Broadway & W 25 St - 23% of rides where started at the time in which the 23 ST subway reported more exits\n",
    "broad2 = bike_data[bike_data['start station name'] == 'Broadway & W 25 St']\n",
    "broad2.exact_start_time.value_counts().head()\n",
    "\n",
    "percentage_of_rides_started_rush_hour = broad2[(broad2.exact_start_time == 8) | (broad2.exact_start_time == 9) | (broad2.exact_start_time == 10) |\n",
    "                                        (broad2.exact_start_time == 11) | (broad2.exact_start_time == 12)].exact_start_time.value_counts().sum() / broad2.exact_start_time.value_counts().sum()\n",
    "\n",
    "percentage_of_rides_started_rush_hour"
   ]
  },
  {
   "cell_type": "code",
   "execution_count": null,
   "metadata": {},
   "outputs": [],
   "source": []
  },
  {
   "cell_type": "markdown",
   "metadata": {},
   "source": [
    "## Time in which the bike stations in proximity to 125 ST started the most rides\n",
    "## Keeping in mind that the time in which more exits were recorded at 125 ST was between 4:00am and 8:00 pm"
   ]
  },
  {
   "cell_type": "code",
   "execution_count": 45,
   "metadata": {},
   "outputs": [
    {
     "name": "stdout",
     "output_type": "stream",
     "text": [
      "0.33581567305654353 (40.8125511, -73.9492286)\n"
     ]
    }
   ],
   "source": [
    "# one bike station is very close to the ST_125 subway station\n",
    "for i in list_of_tuples:\n",
    "    if haversine(ST_125, i) < 0.4:\n",
    "        print(haversine(ST_125, i), i)"
   ]
  },
  {
   "cell_type": "code",
   "execution_count": 46,
   "metadata": {},
   "outputs": [
    {
     "name": "stdout",
     "output_type": "stream",
     "text": [
      "789    Frederick Douglass Blvd & W 129 St\n",
      "Name: station, dtype: object\n"
     ]
    }
   ],
   "source": [
    "# Finding the name of the bike station close to ST_125\n",
    "# finding the station names by the given coordinates\n",
    "\n",
    "bike_stations_near_ST_125 = [40.8125511]\n",
    "\n",
    "for i in bike_stations_near_ST_125:\n",
    "    print(station_latitude_longitude_df[station_latitude_longitude_df['latitude'] == i].station)"
   ]
  },
  {
   "cell_type": "markdown",
   "metadata": {},
   "source": []
  },
  {
   "cell_type": "code",
   "execution_count": 60,
   "metadata": {},
   "outputs": [
    {
     "data": {
      "text/plain": [
       "0.3375779625779626"
      ]
     },
     "execution_count": 60,
     "metadata": {},
     "output_type": "execute_result"
    }
   ],
   "source": [
    "# Frederick Douglass Blvd & W 129 St - 33% of rides where started at the time in which the 125 ST subway reported more exits\n",
    "frederick = bike_data[bike_data['start station name'] == 'Frederick Douglass Blvd & W 129 St']\n",
    "frederick.exact_start_time.value_counts().head()\n",
    "\n",
    "\n",
    "percentage_of_rides_started_rush_hour = frederick[(frederick.exact_start_time == 16) | (frederick.exact_start_time == 17) | (frederick.exact_start_time == 18) |\n",
    "                                        (frederick.exact_start_time == 19) | (frederick.exact_start_time == 20)].exact_start_time.value_counts().sum() / frederick.exact_start_time.value_counts().sum()\n",
    "\n",
    "percentage_of_rides_started_rush_hour"
   ]
  },
  {
   "cell_type": "code",
   "execution_count": null,
   "metadata": {},
   "outputs": [],
   "source": []
  },
  {
   "cell_type": "markdown",
   "metadata": {},
   "source": [
    "## Time in which the bike stations in proximity to Canal ST started the most rides\n",
    "## Keeping in mind that the time in which more exits were recorded at Canal ST was between 9:00 am and 1:00 pm"
   ]
  },
  {
   "cell_type": "code",
   "execution_count": 62,
   "metadata": {},
   "outputs": [
    {
     "name": "stdout",
     "output_type": "stream",
     "text": [
      "0.24373914947108025 (40.72170005235607, -74.00238141417502)\n",
      "0.1802804485733543 (40.71910537, -73.99973337)\n"
     ]
    }
   ],
   "source": [
    "# Two bike stations that are very close to the CANAL_ST subway station\n",
    "for i in list_of_tuples:\n",
    "    if haversine(CANAL_ST, i) < 0.4:\n",
    "        print(haversine(CANAL_ST, i), i)"
   ]
  },
  {
   "cell_type": "code",
   "execution_count": 63,
   "metadata": {},
   "outputs": [
    {
     "name": "stdout",
     "output_type": "stream",
     "text": [
      "852    Grand St & Greene St\n",
      "Name: station, dtype: object\n",
      "895    Howard St & Centre St\n",
      "Name: station, dtype: object\n"
     ]
    }
   ],
   "source": [
    "# Finding the name of the two bike stations close to CANAL_ST\n",
    "# finding the station names by the given coordinates\n",
    "\n",
    "bike_stations_near_canal = [40.72170005235607, 40.71910537]\n",
    "\n",
    "for i in bike_stations_near_canal:\n",
    "    print(station_latitude_longitude_df[station_latitude_longitude_df['latitude'] == i].station)"
   ]
  },
  {
   "cell_type": "markdown",
   "metadata": {},
   "source": []
  },
  {
   "cell_type": "code",
   "execution_count": 64,
   "metadata": {},
   "outputs": [
    {
     "data": {
      "text/plain": [
       "0.16727953930479428"
      ]
     },
     "execution_count": 64,
     "metadata": {},
     "output_type": "execute_result"
    }
   ],
   "source": [
    "# Grand St & Greene St - 16% of rides where started at the time in which the Canal ST subway reported more exits\n",
    "grand_st = bike_data[bike_data['start station name'] == 'Grand St & Greene St']\n",
    "\n",
    "percentage_of_rides_started_rush_hour = grand_st[(grand_st.exact_start_time == 9) | (grand_st.exact_start_time == 10) | (grand_st.exact_start_time == 11) |\n",
    "                                        (grand_st.exact_start_time == 12) | (grand_st.exact_start_time == 1)].exact_start_time.value_counts().sum() / grand_st.exact_start_time.value_counts().sum()\n",
    "\n",
    "percentage_of_rides_started_rush_hour"
   ]
  },
  {
   "cell_type": "code",
   "execution_count": null,
   "metadata": {},
   "outputs": [],
   "source": []
  },
  {
   "cell_type": "code",
   "execution_count": 66,
   "metadata": {},
   "outputs": [
    {
     "data": {
      "text/plain": [
       "0.17982897384305835"
      ]
     },
     "execution_count": 66,
     "metadata": {},
     "output_type": "execute_result"
    }
   ],
   "source": [
    "# Howard St & Centre St - 17% of rides where started at the time in which the Canal ST subway reported more exits\n",
    "howard = bike_data[bike_data['start station name'] == 'Howard St & Centre St']\n",
    "\n",
    "percentage_of_rides_started_rush_hour = howard[(howard.exact_start_time == 9) | (howard.exact_start_time == 10) | (howard.exact_start_time == 11) |\n",
    "                                        (howard.exact_start_time == 12) | (howard.exact_start_time == 1)].exact_start_time.value_counts().sum() / howard.exact_start_time.value_counts().sum()\n",
    "\n",
    "percentage_of_rides_started_rush_hour"
   ]
  },
  {
   "cell_type": "code",
   "execution_count": null,
   "metadata": {},
   "outputs": [],
   "source": []
  },
  {
   "cell_type": "code",
   "execution_count": null,
   "metadata": {},
   "outputs": [],
   "source": []
  },
  {
   "cell_type": "markdown",
   "metadata": {},
   "source": [
    "## Time in which the bike stations in proximity to 34 ST-PENN ST started the most rides\n",
    "## Keeping in mind that the time in which more exits were recorded at 34 ST-PENN ST  was between 2:00 pm and 6:00 pm"
   ]
  },
  {
   "cell_type": "code",
   "execution_count": 67,
   "metadata": {},
   "outputs": [
    {
     "name": "stdout",
     "output_type": "stream",
     "text": [
      "0.24031141773092873 (40.7505853470215, -73.9946848154068)\n",
      "0.11612884256533429 (40.751551, -73.993934)\n",
      "0.2703106656952306 (40.75461, -73.99176999999997)\n"
     ]
    }
   ],
   "source": [
    "# Three bike stations that are very close to the PENN_STA subway station\n",
    "for i in list_of_tuples:\n",
    "    if haversine(PENN_STA, i) < 0.4:\n",
    "        print(haversine(PENN_STA, i), i)"
   ]
  },
  {
   "cell_type": "code",
   "execution_count": 68,
   "metadata": {},
   "outputs": [
    {
     "name": "stdout",
     "output_type": "stream",
     "text": [
      "260    8 Ave & W 31 St\n",
      "Name: station, dtype: object\n",
      "261    8 Ave & W 33 St\n",
      "Name: station, dtype: object\n",
      "262    8 Ave & W 38 St\n",
      "Name: station, dtype: object\n"
     ]
    }
   ],
   "source": [
    "# Finding the name of the three bike stations close to PENN_STA\n",
    "# finding the station names by the given coordinates\n",
    "\n",
    "bike_stations_near_penn = [40.7505853470215, 40.751551, 40.75461]\n",
    "\n",
    "for i in bike_stations_near_penn:\n",
    "    print(station_latitude_longitude_df[station_latitude_longitude_df['latitude'] == i].station)"
   ]
  },
  {
   "cell_type": "code",
   "execution_count": null,
   "metadata": {},
   "outputs": [],
   "source": []
  },
  {
   "cell_type": "code",
   "execution_count": 69,
   "metadata": {},
   "outputs": [
    {
     "data": {
      "text/plain": [
       "0.3235318721766773"
      ]
     },
     "execution_count": 69,
     "metadata": {},
     "output_type": "execute_result"
    }
   ],
   "source": [
    "# 8 Ave & W 31 St - 32% of rides where started at the time in which the 34 ST-PENN ST subway reported more exits\n",
    "ave_8_penn = bike_data[bike_data['start station name'] == '8 Ave & W 31 St']\n",
    "\n",
    "\n",
    "percentage_of_rides_started_rush_hour = ave_8_penn[(ave_8_penn.exact_start_time == 14) | (ave_8_penn.exact_start_time == 15) | (ave_8_penn.exact_start_time == 16) |\n",
    "                                        (ave_8_penn.exact_start_time == 17) | (ave_8_penn.exact_start_time == 18)].exact_start_time.value_counts().sum() / ave_8_penn.exact_start_time.value_counts().sum()\n",
    "\n",
    "percentage_of_rides_started_rush_hour"
   ]
  },
  {
   "cell_type": "code",
   "execution_count": 70,
   "metadata": {},
   "outputs": [
    {
     "data": {
      "text/plain": [
       "0.3721641702093846"
      ]
     },
     "execution_count": 70,
     "metadata": {},
     "output_type": "execute_result"
    }
   ],
   "source": [
    "# 8 Ave & W 33 St - 37% of rides where started at the time in which the 34 ST-PENN ST subway reported more exits\n",
    "ave_8_penn_33 = bike_data[bike_data['start station name'] == '8 Ave & W 33 St']\n",
    "\n",
    "percentage_of_rides_started_rush_hour = ave_8_penn_33[(ave_8_penn_33.exact_start_time == 14) | (ave_8_penn_33.exact_start_time == 15) | (ave_8_penn_33.exact_start_time == 16) |\n",
    "                                        (ave_8_penn_33.exact_start_time == 17) | (ave_8_penn_33.exact_start_time == 18)].exact_start_time.value_counts().sum() / ave_8_penn_33.exact_start_time.value_counts().sum()\n",
    "\n",
    "percentage_of_rides_started_rush_hour"
   ]
  },
  {
   "cell_type": "code",
   "execution_count": 73,
   "metadata": {},
   "outputs": [
    {
     "data": {
      "text/plain": [
       "0.3669384427231961"
      ]
     },
     "execution_count": 73,
     "metadata": {},
     "output_type": "execute_result"
    }
   ],
   "source": [
    "# 8 Ave & W 38 St - 36% of rides where started at the time in which the 34 ST-PENN ST subway reported more exits\n",
    "ave_8_penn_38 = bike_data[bike_data['start station name'] == '8 Ave & W 38 St']\n",
    "\n",
    "percentage_of_rides_started_rush_hour = ave_8_penn_38[(ave_8_penn_38.exact_start_time == 14) | (ave_8_penn_38.exact_start_time == 15) | (ave_8_penn_38.exact_start_time == 16) |\n",
    "                                        (ave_8_penn_38.exact_start_time == 17) | (ave_8_penn_38.exact_start_time == 18)].exact_start_time.value_counts().sum() / ave_8_penn_38.exact_start_time.value_counts().sum()\n",
    "\n",
    "percentage_of_rides_started_rush_hour"
   ]
  },
  {
   "cell_type": "code",
   "execution_count": null,
   "metadata": {},
   "outputs": [],
   "source": []
  }
 ],
 "metadata": {
  "kernelspec": {
   "display_name": "Python 3",
   "language": "python",
   "name": "python3"
  },
  "language_info": {
   "codemirror_mode": {
    "name": "ipython",
    "version": 3
   },
   "file_extension": ".py",
   "mimetype": "text/x-python",
   "name": "python",
   "nbconvert_exporter": "python",
   "pygments_lexer": "ipython3",
   "version": "3.7.6"
  }
 },
 "nbformat": 4,
 "nbformat_minor": 4
}
